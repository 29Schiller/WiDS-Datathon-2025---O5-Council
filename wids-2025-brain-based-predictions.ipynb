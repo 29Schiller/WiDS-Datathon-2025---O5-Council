{
 "cells": [
  {
   "cell_type": "markdown",
   "id": "ed0cb7dc",
   "metadata": {
    "papermill": {
     "duration": 0.009981,
     "end_time": "2025-04-30T09:34:49.958805",
     "exception": false,
     "start_time": "2025-04-30T09:34:49.948824",
     "status": "completed"
    },
    "tags": []
   },
   "source": [
    "# 1: Imports & Setup"
   ]
  },
  {
   "cell_type": "code",
   "execution_count": 1,
   "id": "0594bf53",
   "metadata": {
    "execution": {
     "iopub.execute_input": "2025-04-30T09:34:49.978048Z",
     "iopub.status.busy": "2025-04-30T09:34:49.977740Z",
     "iopub.status.idle": "2025-04-30T09:34:53.642568Z",
     "shell.execute_reply": "2025-04-30T09:34:53.641255Z"
    },
    "papermill": {
     "duration": 3.676507,
     "end_time": "2025-04-30T09:34:53.644477",
     "exception": false,
     "start_time": "2025-04-30T09:34:49.967970",
     "status": "completed"
    },
    "tags": []
   },
   "outputs": [
    {
     "name": "stdout",
     "output_type": "stream",
     "text": [
      "✅ Imports done.\n"
     ]
    }
   ],
   "source": [
    "# Data handling\n",
    "import pandas as pd\n",
    "import numpy as np\n",
    "\n",
    "# Visualisation\n",
    "import matplotlib.pyplot as plt\n",
    "import seaborn as sns\n",
    "\n",
    "# Settings\n",
    "sns.set(style=\"whitegrid\")\n",
    "pd.set_option('display.max_columns', 100)  # Show more columns if needed\n",
    "\n",
    "print(\"✅ Imports done.\")\n"
   ]
  },
  {
   "cell_type": "markdown",
   "id": "98aee38b",
   "metadata": {
    "papermill": {
     "duration": 0.008784,
     "end_time": "2025-04-30T09:34:53.662715",
     "exception": false,
     "start_time": "2025-04-30T09:34:53.653931",
     "status": "completed"
    },
    "tags": []
   },
   "source": [
    "# 2: Load the Data"
   ]
  },
  {
   "cell_type": "code",
   "execution_count": 2,
   "id": "8b4880ff",
   "metadata": {
    "execution": {
     "iopub.execute_input": "2025-04-30T09:34:53.682272Z",
     "iopub.status.busy": "2025-04-30T09:34:53.681838Z",
     "iopub.status.idle": "2025-04-30T09:35:11.300126Z",
     "shell.execute_reply": "2025-04-30T09:35:11.299175Z"
    },
    "papermill": {
     "duration": 17.629856,
     "end_time": "2025-04-30T09:35:11.301824",
     "exception": false,
     "start_time": "2025-04-30T09:34:53.671968",
     "status": "completed"
    },
    "tags": []
   },
   "outputs": [],
   "source": [
    "# Load training targets\n",
    "targets = pd.read_excel(\"/kaggle/input/widsdatathon2025/TRAIN_NEW/TRAINING_SOLUTIONS.xlsx\")\n",
    "\n",
    "# Load functional brain connectome features\n",
    "connectome = pd.read_csv(\"/kaggle/input/widsdatathon2025/TRAIN_NEW/TRAIN_FUNCTIONAL_CONNECTOME_MATRICES_new_36P_Pearson.csv\")\n",
    "\n",
    "# Load categorical metadata\n",
    "cat_meta = pd.read_excel(\"/kaggle/input/widsdatathon2025/TRAIN_NEW/TRAIN_CATEGORICAL_METADATA_new.xlsx\")\n",
    "\n",
    "# Load quantitative metadata\n",
    "quant_meta = pd.read_excel(\"/kaggle/input/widsdatathon2025/TRAIN_NEW/TRAIN_QUANTITATIVE_METADATA_new.xlsx\")\n"
   ]
  },
  {
   "cell_type": "code",
   "execution_count": 3,
   "id": "3c0923c4",
   "metadata": {
    "execution": {
     "iopub.execute_input": "2025-04-30T09:35:11.321485Z",
     "iopub.status.busy": "2025-04-30T09:35:11.321170Z",
     "iopub.status.idle": "2025-04-30T09:35:12.000612Z",
     "shell.execute_reply": "2025-04-30T09:35:11.999493Z"
    },
    "papermill": {
     "duration": 0.692013,
     "end_time": "2025-04-30T09:35:12.003327",
     "exception": false,
     "start_time": "2025-04-30T09:35:11.311314",
     "status": "completed"
    },
    "tags": []
   },
   "outputs": [
    {
     "name": "stdout",
     "output_type": "stream",
     "text": [
      "✅ Shape of merged training data: (1213, 19930)\n"
     ]
    },
    {
     "name": "stderr",
     "output_type": "stream",
     "text": [
      "/usr/local/lib/python3.11/dist-packages/pandas/io/formats/format.py:1458: RuntimeWarning: invalid value encountered in greater\n",
      "  has_large_values = (abs_vals > 1e6).any()\n",
      "/usr/local/lib/python3.11/dist-packages/pandas/io/formats/format.py:1459: RuntimeWarning: invalid value encountered in less\n",
      "  has_small_values = ((abs_vals < 10 ** (-self.digits)) & (abs_vals > 0)).any()\n",
      "/usr/local/lib/python3.11/dist-packages/pandas/io/formats/format.py:1459: RuntimeWarning: invalid value encountered in greater\n",
      "  has_small_values = ((abs_vals < 10 ** (-self.digits)) & (abs_vals > 0)).any()\n",
      "/usr/local/lib/python3.11/dist-packages/pandas/io/formats/format.py:1458: RuntimeWarning: invalid value encountered in greater\n",
      "  has_large_values = (abs_vals > 1e6).any()\n",
      "/usr/local/lib/python3.11/dist-packages/pandas/io/formats/format.py:1459: RuntimeWarning: invalid value encountered in less\n",
      "  has_small_values = ((abs_vals < 10 ** (-self.digits)) & (abs_vals > 0)).any()\n",
      "/usr/local/lib/python3.11/dist-packages/pandas/io/formats/format.py:1459: RuntimeWarning: invalid value encountered in greater\n",
      "  has_small_values = ((abs_vals < 10 ** (-self.digits)) & (abs_vals > 0)).any()\n"
     ]
    },
    {
     "data": {
      "text/html": [
       "<div>\n",
       "<style scoped>\n",
       "    .dataframe tbody tr th:only-of-type {\n",
       "        vertical-align: middle;\n",
       "    }\n",
       "\n",
       "    .dataframe tbody tr th {\n",
       "        vertical-align: top;\n",
       "    }\n",
       "\n",
       "    .dataframe thead th {\n",
       "        text-align: right;\n",
       "    }\n",
       "</style>\n",
       "<table border=\"1\" class=\"dataframe\">\n",
       "  <thead>\n",
       "    <tr style=\"text-align: right;\">\n",
       "      <th></th>\n",
       "      <th>participant_id</th>\n",
       "      <th>ADHD_Outcome</th>\n",
       "      <th>Sex_F</th>\n",
       "      <th>0throw_1thcolumn</th>\n",
       "      <th>0throw_2thcolumn</th>\n",
       "      <th>0throw_3thcolumn</th>\n",
       "      <th>0throw_4thcolumn</th>\n",
       "      <th>0throw_5thcolumn</th>\n",
       "      <th>0throw_6thcolumn</th>\n",
       "      <th>0throw_7thcolumn</th>\n",
       "      <th>0throw_8thcolumn</th>\n",
       "      <th>0throw_9thcolumn</th>\n",
       "      <th>0throw_10thcolumn</th>\n",
       "      <th>0throw_11thcolumn</th>\n",
       "      <th>0throw_12thcolumn</th>\n",
       "      <th>0throw_13thcolumn</th>\n",
       "      <th>0throw_14thcolumn</th>\n",
       "      <th>0throw_15thcolumn</th>\n",
       "      <th>0throw_16thcolumn</th>\n",
       "      <th>0throw_17thcolumn</th>\n",
       "      <th>0throw_18thcolumn</th>\n",
       "      <th>0throw_19thcolumn</th>\n",
       "      <th>0throw_20thcolumn</th>\n",
       "      <th>0throw_21thcolumn</th>\n",
       "      <th>0throw_22thcolumn</th>\n",
       "      <th>0throw_23thcolumn</th>\n",
       "      <th>0throw_24thcolumn</th>\n",
       "      <th>0throw_25thcolumn</th>\n",
       "      <th>0throw_26thcolumn</th>\n",
       "      <th>0throw_27thcolumn</th>\n",
       "      <th>0throw_28thcolumn</th>\n",
       "      <th>0throw_29thcolumn</th>\n",
       "      <th>0throw_30thcolumn</th>\n",
       "      <th>0throw_31thcolumn</th>\n",
       "      <th>0throw_32thcolumn</th>\n",
       "      <th>0throw_33thcolumn</th>\n",
       "      <th>0throw_34thcolumn</th>\n",
       "      <th>0throw_35thcolumn</th>\n",
       "      <th>0throw_36thcolumn</th>\n",
       "      <th>0throw_37thcolumn</th>\n",
       "      <th>0throw_38thcolumn</th>\n",
       "      <th>0throw_39thcolumn</th>\n",
       "      <th>0throw_40thcolumn</th>\n",
       "      <th>0throw_41thcolumn</th>\n",
       "      <th>0throw_42thcolumn</th>\n",
       "      <th>0throw_43thcolumn</th>\n",
       "      <th>0throw_44thcolumn</th>\n",
       "      <th>0throw_45thcolumn</th>\n",
       "      <th>0throw_46thcolumn</th>\n",
       "      <th>0throw_47thcolumn</th>\n",
       "      <th>...</th>\n",
       "      <th>192throw_198thcolumn</th>\n",
       "      <th>192throw_199thcolumn</th>\n",
       "      <th>193throw_194thcolumn</th>\n",
       "      <th>193throw_195thcolumn</th>\n",
       "      <th>193throw_196thcolumn</th>\n",
       "      <th>193throw_197thcolumn</th>\n",
       "      <th>193throw_198thcolumn</th>\n",
       "      <th>193throw_199thcolumn</th>\n",
       "      <th>194throw_195thcolumn</th>\n",
       "      <th>194throw_196thcolumn</th>\n",
       "      <th>194throw_197thcolumn</th>\n",
       "      <th>194throw_198thcolumn</th>\n",
       "      <th>194throw_199thcolumn</th>\n",
       "      <th>195throw_196thcolumn</th>\n",
       "      <th>195throw_197thcolumn</th>\n",
       "      <th>195throw_198thcolumn</th>\n",
       "      <th>195throw_199thcolumn</th>\n",
       "      <th>196throw_197thcolumn</th>\n",
       "      <th>196throw_198thcolumn</th>\n",
       "      <th>196throw_199thcolumn</th>\n",
       "      <th>197throw_198thcolumn</th>\n",
       "      <th>197throw_199thcolumn</th>\n",
       "      <th>198throw_199thcolumn</th>\n",
       "      <th>Basic_Demos_Enroll_Year</th>\n",
       "      <th>Basic_Demos_Study_Site</th>\n",
       "      <th>PreInt_Demos_Fam_Child_Ethnicity</th>\n",
       "      <th>PreInt_Demos_Fam_Child_Race</th>\n",
       "      <th>MRI_Track_Scan_Location</th>\n",
       "      <th>Barratt_Barratt_P1_Edu</th>\n",
       "      <th>Barratt_Barratt_P1_Occ</th>\n",
       "      <th>Barratt_Barratt_P2_Edu</th>\n",
       "      <th>Barratt_Barratt_P2_Occ</th>\n",
       "      <th>EHQ_EHQ_Total</th>\n",
       "      <th>ColorVision_CV_Score</th>\n",
       "      <th>APQ_P_APQ_P_CP</th>\n",
       "      <th>APQ_P_APQ_P_ID</th>\n",
       "      <th>APQ_P_APQ_P_INV</th>\n",
       "      <th>APQ_P_APQ_P_OPD</th>\n",
       "      <th>APQ_P_APQ_P_PM</th>\n",
       "      <th>APQ_P_APQ_P_PP</th>\n",
       "      <th>SDQ_SDQ_Conduct_Problems</th>\n",
       "      <th>SDQ_SDQ_Difficulties_Total</th>\n",
       "      <th>SDQ_SDQ_Emotional_Problems</th>\n",
       "      <th>SDQ_SDQ_Externalizing</th>\n",
       "      <th>SDQ_SDQ_Generating_Impact</th>\n",
       "      <th>SDQ_SDQ_Hyperactivity</th>\n",
       "      <th>SDQ_SDQ_Internalizing</th>\n",
       "      <th>SDQ_SDQ_Peer_Problems</th>\n",
       "      <th>SDQ_SDQ_Prosocial</th>\n",
       "      <th>MRI_Track_Age_at_Scan</th>\n",
       "    </tr>\n",
       "  </thead>\n",
       "  <tbody>\n",
       "    <tr>\n",
       "      <th>0</th>\n",
       "      <td>UmrK0vMLopoR</td>\n",
       "      <td>1</td>\n",
       "      <td>1</td>\n",
       "      <td>0.131179</td>\n",
       "      <td>0.624215</td>\n",
       "      <td>0.277402</td>\n",
       "      <td>0.298592</td>\n",
       "      <td>0.759000</td>\n",
       "      <td>0.662423</td>\n",
       "      <td>0.571035</td>\n",
       "      <td>0.467716</td>\n",
       "      <td>0.524176</td>\n",
       "      <td>0.431877</td>\n",
       "      <td>0.520218</td>\n",
       "      <td>-0.111022</td>\n",
       "      <td>-0.131423</td>\n",
       "      <td>-0.019404</td>\n",
       "      <td>-0.087645</td>\n",
       "      <td>-0.141685</td>\n",
       "      <td>-0.011132</td>\n",
       "      <td>0.011524</td>\n",
       "      <td>0.053835</td>\n",
       "      <td>-0.068349</td>\n",
       "      <td>0.092325</td>\n",
       "      <td>0.162111</td>\n",
       "      <td>0.110339</td>\n",
       "      <td>0.050189</td>\n",
       "      <td>0.186407</td>\n",
       "      <td>0.117441</td>\n",
       "      <td>0.029032</td>\n",
       "      <td>0.446372</td>\n",
       "      <td>0.540902</td>\n",
       "      <td>0.326058</td>\n",
       "      <td>0.482136</td>\n",
       "      <td>0.482744</td>\n",
       "      <td>0.300210</td>\n",
       "      <td>0.102812</td>\n",
       "      <td>0.227850</td>\n",
       "      <td>0.295776</td>\n",
       "      <td>0.351981</td>\n",
       "      <td>-0.002465</td>\n",
       "      <td>0.163335</td>\n",
       "      <td>-0.084952</td>\n",
       "      <td>0.016213</td>\n",
       "      <td>-0.025439</td>\n",
       "      <td>0.078814</td>\n",
       "      <td>-0.229631</td>\n",
       "      <td>-0.242848</td>\n",
       "      <td>-0.112944</td>\n",
       "      <td>-0.389435</td>\n",
       "      <td>...</td>\n",
       "      <td>0.354238</td>\n",
       "      <td>0.252398</td>\n",
       "      <td>0.396294</td>\n",
       "      <td>0.273284</td>\n",
       "      <td>0.095622</td>\n",
       "      <td>0.062186</td>\n",
       "      <td>0.110866</td>\n",
       "      <td>0.066288</td>\n",
       "      <td>0.746586</td>\n",
       "      <td>0.040584</td>\n",
       "      <td>-0.157698</td>\n",
       "      <td>-0.097332</td>\n",
       "      <td>0.221569</td>\n",
       "      <td>0.073282</td>\n",
       "      <td>-0.044925</td>\n",
       "      <td>-0.057102</td>\n",
       "      <td>0.260735</td>\n",
       "      <td>0.458798</td>\n",
       "      <td>0.201057</td>\n",
       "      <td>0.207405</td>\n",
       "      <td>0.606301</td>\n",
       "      <td>0.586939</td>\n",
       "      <td>0.460227</td>\n",
       "      <td>2016</td>\n",
       "      <td>1</td>\n",
       "      <td>0.0</td>\n",
       "      <td>0.0</td>\n",
       "      <td>1.0</td>\n",
       "      <td>21.0</td>\n",
       "      <td>45.0</td>\n",
       "      <td>21.0</td>\n",
       "      <td>45.0</td>\n",
       "      <td>40.00</td>\n",
       "      <td>13.0</td>\n",
       "      <td>3.0</td>\n",
       "      <td>10.0</td>\n",
       "      <td>47.0</td>\n",
       "      <td>13.0</td>\n",
       "      <td>11.0</td>\n",
       "      <td>28.0</td>\n",
       "      <td>0.0</td>\n",
       "      <td>6.0</td>\n",
       "      <td>1.0</td>\n",
       "      <td>5.0</td>\n",
       "      <td>0.0</td>\n",
       "      <td>5.0</td>\n",
       "      <td>1.0</td>\n",
       "      <td>0.0</td>\n",
       "      <td>10.0</td>\n",
       "      <td>NaN</td>\n",
       "    </tr>\n",
       "    <tr>\n",
       "      <th>1</th>\n",
       "      <td>CPaeQkhcjg7d</td>\n",
       "      <td>1</td>\n",
       "      <td>0</td>\n",
       "      <td>0.566404</td>\n",
       "      <td>0.373010</td>\n",
       "      <td>0.620062</td>\n",
       "      <td>0.226501</td>\n",
       "      <td>0.388081</td>\n",
       "      <td>0.298320</td>\n",
       "      <td>0.162486</td>\n",
       "      <td>-0.113101</td>\n",
       "      <td>-0.104712</td>\n",
       "      <td>-0.218897</td>\n",
       "      <td>-0.124157</td>\n",
       "      <td>-0.076453</td>\n",
       "      <td>-0.280378</td>\n",
       "      <td>-0.272335</td>\n",
       "      <td>-0.297827</td>\n",
       "      <td>-0.329922</td>\n",
       "      <td>-0.311892</td>\n",
       "      <td>0.160154</td>\n",
       "      <td>-0.182421</td>\n",
       "      <td>-0.011465</td>\n",
       "      <td>-0.175892</td>\n",
       "      <td>-0.077345</td>\n",
       "      <td>-0.174914</td>\n",
       "      <td>-0.383742</td>\n",
       "      <td>-0.339158</td>\n",
       "      <td>-0.212239</td>\n",
       "      <td>-0.197538</td>\n",
       "      <td>0.466234</td>\n",
       "      <td>0.251399</td>\n",
       "      <td>0.023384</td>\n",
       "      <td>0.461355</td>\n",
       "      <td>0.265471</td>\n",
       "      <td>0.015526</td>\n",
       "      <td>-0.241855</td>\n",
       "      <td>-0.146587</td>\n",
       "      <td>-0.410712</td>\n",
       "      <td>-0.088327</td>\n",
       "      <td>-0.264618</td>\n",
       "      <td>-0.124120</td>\n",
       "      <td>-0.001024</td>\n",
       "      <td>-0.096380</td>\n",
       "      <td>0.043276</td>\n",
       "      <td>-0.142665</td>\n",
       "      <td>0.004261</td>\n",
       "      <td>-0.195353</td>\n",
       "      <td>0.299896</td>\n",
       "      <td>0.173379</td>\n",
       "      <td>...</td>\n",
       "      <td>-0.138208</td>\n",
       "      <td>-0.266746</td>\n",
       "      <td>0.135432</td>\n",
       "      <td>0.075570</td>\n",
       "      <td>-0.205510</td>\n",
       "      <td>0.168887</td>\n",
       "      <td>0.205291</td>\n",
       "      <td>0.328191</td>\n",
       "      <td>0.401676</td>\n",
       "      <td>0.035492</td>\n",
       "      <td>0.091486</td>\n",
       "      <td>0.124476</td>\n",
       "      <td>0.111276</td>\n",
       "      <td>0.138573</td>\n",
       "      <td>0.110515</td>\n",
       "      <td>-0.132631</td>\n",
       "      <td>-0.023360</td>\n",
       "      <td>0.572922</td>\n",
       "      <td>0.572254</td>\n",
       "      <td>0.436960</td>\n",
       "      <td>0.570057</td>\n",
       "      <td>0.565683</td>\n",
       "      <td>0.718430</td>\n",
       "      <td>2019</td>\n",
       "      <td>3</td>\n",
       "      <td>1.0</td>\n",
       "      <td>2.0</td>\n",
       "      <td>3.0</td>\n",
       "      <td>15.0</td>\n",
       "      <td>15.0</td>\n",
       "      <td>NaN</td>\n",
       "      <td>NaN</td>\n",
       "      <td>-94.47</td>\n",
       "      <td>14.0</td>\n",
       "      <td>3.0</td>\n",
       "      <td>13.0</td>\n",
       "      <td>34.0</td>\n",
       "      <td>18.0</td>\n",
       "      <td>23.0</td>\n",
       "      <td>30.0</td>\n",
       "      <td>0.0</td>\n",
       "      <td>18.0</td>\n",
       "      <td>6.0</td>\n",
       "      <td>8.0</td>\n",
       "      <td>7.0</td>\n",
       "      <td>8.0</td>\n",
       "      <td>10.0</td>\n",
       "      <td>4.0</td>\n",
       "      <td>5.0</td>\n",
       "      <td>NaN</td>\n",
       "    </tr>\n",
       "    <tr>\n",
       "      <th>2</th>\n",
       "      <td>Nb4EetVPm3gs</td>\n",
       "      <td>1</td>\n",
       "      <td>0</td>\n",
       "      <td>0.549076</td>\n",
       "      <td>0.654565</td>\n",
       "      <td>0.568332</td>\n",
       "      <td>0.275605</td>\n",
       "      <td>0.309836</td>\n",
       "      <td>0.299008</td>\n",
       "      <td>0.313129</td>\n",
       "      <td>-0.003321</td>\n",
       "      <td>0.189899</td>\n",
       "      <td>-0.071062</td>\n",
       "      <td>0.143982</td>\n",
       "      <td>-0.091953</td>\n",
       "      <td>0.009807</td>\n",
       "      <td>-0.012467</td>\n",
       "      <td>0.012967</td>\n",
       "      <td>-0.126908</td>\n",
       "      <td>-0.083618</td>\n",
       "      <td>-0.108008</td>\n",
       "      <td>-0.067233</td>\n",
       "      <td>0.167389</td>\n",
       "      <td>0.099339</td>\n",
       "      <td>-0.031546</td>\n",
       "      <td>0.248409</td>\n",
       "      <td>-0.054004</td>\n",
       "      <td>0.114214</td>\n",
       "      <td>0.069751</td>\n",
       "      <td>0.027255</td>\n",
       "      <td>0.287550</td>\n",
       "      <td>0.428203</td>\n",
       "      <td>0.040075</td>\n",
       "      <td>0.272582</td>\n",
       "      <td>0.093797</td>\n",
       "      <td>0.001675</td>\n",
       "      <td>-0.069901</td>\n",
       "      <td>0.001889</td>\n",
       "      <td>-0.156405</td>\n",
       "      <td>-0.218839</td>\n",
       "      <td>-0.181800</td>\n",
       "      <td>-0.062380</td>\n",
       "      <td>-0.005695</td>\n",
       "      <td>0.187718</td>\n",
       "      <td>-0.034566</td>\n",
       "      <td>-0.287475</td>\n",
       "      <td>0.165256</td>\n",
       "      <td>0.105787</td>\n",
       "      <td>-0.421214</td>\n",
       "      <td>-0.375054</td>\n",
       "      <td>...</td>\n",
       "      <td>0.524458</td>\n",
       "      <td>0.101916</td>\n",
       "      <td>0.505561</td>\n",
       "      <td>0.436748</td>\n",
       "      <td>0.076747</td>\n",
       "      <td>-0.193556</td>\n",
       "      <td>0.029367</td>\n",
       "      <td>0.261960</td>\n",
       "      <td>0.454753</td>\n",
       "      <td>0.111481</td>\n",
       "      <td>-0.322203</td>\n",
       "      <td>-0.133290</td>\n",
       "      <td>0.057986</td>\n",
       "      <td>0.124581</td>\n",
       "      <td>-0.034945</td>\n",
       "      <td>0.058824</td>\n",
       "      <td>0.092067</td>\n",
       "      <td>0.429785</td>\n",
       "      <td>0.387289</td>\n",
       "      <td>0.328993</td>\n",
       "      <td>0.637749</td>\n",
       "      <td>0.108923</td>\n",
       "      <td>0.149962</td>\n",
       "      <td>2016</td>\n",
       "      <td>1</td>\n",
       "      <td>1.0</td>\n",
       "      <td>8.0</td>\n",
       "      <td>1.0</td>\n",
       "      <td>18.0</td>\n",
       "      <td>40.0</td>\n",
       "      <td>NaN</td>\n",
       "      <td>NaN</td>\n",
       "      <td>-46.67</td>\n",
       "      <td>14.0</td>\n",
       "      <td>4.0</td>\n",
       "      <td>10.0</td>\n",
       "      <td>35.0</td>\n",
       "      <td>16.0</td>\n",
       "      <td>10.0</td>\n",
       "      <td>29.0</td>\n",
       "      <td>1.0</td>\n",
       "      <td>14.0</td>\n",
       "      <td>2.0</td>\n",
       "      <td>8.0</td>\n",
       "      <td>5.0</td>\n",
       "      <td>7.0</td>\n",
       "      <td>6.0</td>\n",
       "      <td>4.0</td>\n",
       "      <td>9.0</td>\n",
       "      <td>8.239904</td>\n",
       "    </tr>\n",
       "    <tr>\n",
       "      <th>3</th>\n",
       "      <td>p4vPhVu91o4b</td>\n",
       "      <td>1</td>\n",
       "      <td>1</td>\n",
       "      <td>0.567373</td>\n",
       "      <td>0.361625</td>\n",
       "      <td>0.545141</td>\n",
       "      <td>0.552430</td>\n",
       "      <td>0.503822</td>\n",
       "      <td>0.771487</td>\n",
       "      <td>0.803952</td>\n",
       "      <td>0.674752</td>\n",
       "      <td>0.653188</td>\n",
       "      <td>0.672416</td>\n",
       "      <td>0.653810</td>\n",
       "      <td>-0.227554</td>\n",
       "      <td>0.065508</td>\n",
       "      <td>0.157607</td>\n",
       "      <td>0.059963</td>\n",
       "      <td>0.266176</td>\n",
       "      <td>-0.153354</td>\n",
       "      <td>-0.145353</td>\n",
       "      <td>-0.059449</td>\n",
       "      <td>-0.114707</td>\n",
       "      <td>0.064317</td>\n",
       "      <td>-0.024547</td>\n",
       "      <td>-0.142505</td>\n",
       "      <td>0.012722</td>\n",
       "      <td>0.027980</td>\n",
       "      <td>-0.208587</td>\n",
       "      <td>0.128269</td>\n",
       "      <td>0.077947</td>\n",
       "      <td>0.481502</td>\n",
       "      <td>0.392917</td>\n",
       "      <td>-0.113218</td>\n",
       "      <td>-0.092117</td>\n",
       "      <td>-0.028510</td>\n",
       "      <td>-0.002517</td>\n",
       "      <td>-0.054955</td>\n",
       "      <td>0.064793</td>\n",
       "      <td>-0.068945</td>\n",
       "      <td>-0.265003</td>\n",
       "      <td>0.124763</td>\n",
       "      <td>0.228754</td>\n",
       "      <td>-0.037953</td>\n",
       "      <td>0.027900</td>\n",
       "      <td>0.172916</td>\n",
       "      <td>-0.239489</td>\n",
       "      <td>-0.241963</td>\n",
       "      <td>-0.012096</td>\n",
       "      <td>0.152559</td>\n",
       "      <td>...</td>\n",
       "      <td>0.579248</td>\n",
       "      <td>0.529565</td>\n",
       "      <td>0.433339</td>\n",
       "      <td>0.309301</td>\n",
       "      <td>0.316757</td>\n",
       "      <td>0.315654</td>\n",
       "      <td>0.339839</td>\n",
       "      <td>0.375125</td>\n",
       "      <td>0.592171</td>\n",
       "      <td>-0.037884</td>\n",
       "      <td>-0.070940</td>\n",
       "      <td>-0.125819</td>\n",
       "      <td>-0.084336</td>\n",
       "      <td>-0.081272</td>\n",
       "      <td>-0.192391</td>\n",
       "      <td>-0.246083</td>\n",
       "      <td>-0.178243</td>\n",
       "      <td>0.747706</td>\n",
       "      <td>0.601304</td>\n",
       "      <td>0.617073</td>\n",
       "      <td>0.728884</td>\n",
       "      <td>0.604767</td>\n",
       "      <td>0.848008</td>\n",
       "      <td>2018</td>\n",
       "      <td>3</td>\n",
       "      <td>0.0</td>\n",
       "      <td>8.0</td>\n",
       "      <td>3.0</td>\n",
       "      <td>15.0</td>\n",
       "      <td>30.0</td>\n",
       "      <td>18.0</td>\n",
       "      <td>0.0</td>\n",
       "      <td>-26.68</td>\n",
       "      <td>10.0</td>\n",
       "      <td>5.0</td>\n",
       "      <td>12.0</td>\n",
       "      <td>39.0</td>\n",
       "      <td>19.0</td>\n",
       "      <td>16.0</td>\n",
       "      <td>28.0</td>\n",
       "      <td>6.0</td>\n",
       "      <td>24.0</td>\n",
       "      <td>4.0</td>\n",
       "      <td>16.0</td>\n",
       "      <td>9.0</td>\n",
       "      <td>10.0</td>\n",
       "      <td>8.0</td>\n",
       "      <td>4.0</td>\n",
       "      <td>6.0</td>\n",
       "      <td>NaN</td>\n",
       "    </tr>\n",
       "    <tr>\n",
       "      <th>4</th>\n",
       "      <td>M09PXs7arQ5E</td>\n",
       "      <td>1</td>\n",
       "      <td>1</td>\n",
       "      <td>0.437908</td>\n",
       "      <td>0.747711</td>\n",
       "      <td>0.319984</td>\n",
       "      <td>0.280362</td>\n",
       "      <td>0.545870</td>\n",
       "      <td>0.633710</td>\n",
       "      <td>0.458625</td>\n",
       "      <td>0.436592</td>\n",
       "      <td>0.531272</td>\n",
       "      <td>0.446092</td>\n",
       "      <td>0.342235</td>\n",
       "      <td>-0.262251</td>\n",
       "      <td>-0.371831</td>\n",
       "      <td>-0.291152</td>\n",
       "      <td>-0.177720</td>\n",
       "      <td>-0.330068</td>\n",
       "      <td>-0.092646</td>\n",
       "      <td>-0.044453</td>\n",
       "      <td>-0.118524</td>\n",
       "      <td>-0.132638</td>\n",
       "      <td>-0.224219</td>\n",
       "      <td>-0.180866</td>\n",
       "      <td>-0.106271</td>\n",
       "      <td>0.003844</td>\n",
       "      <td>-0.174695</td>\n",
       "      <td>-0.201529</td>\n",
       "      <td>0.114005</td>\n",
       "      <td>0.304847</td>\n",
       "      <td>0.431764</td>\n",
       "      <td>0.168027</td>\n",
       "      <td>0.031155</td>\n",
       "      <td>0.013729</td>\n",
       "      <td>-0.225830</td>\n",
       "      <td>-0.355428</td>\n",
       "      <td>-0.293213</td>\n",
       "      <td>-0.254871</td>\n",
       "      <td>0.116523</td>\n",
       "      <td>-0.187742</td>\n",
       "      <td>-0.083137</td>\n",
       "      <td>-0.144247</td>\n",
       "      <td>-0.131957</td>\n",
       "      <td>-0.103847</td>\n",
       "      <td>-0.026230</td>\n",
       "      <td>-0.179161</td>\n",
       "      <td>-0.112901</td>\n",
       "      <td>-0.152650</td>\n",
       "      <td>-0.210690</td>\n",
       "      <td>...</td>\n",
       "      <td>0.568147</td>\n",
       "      <td>0.373517</td>\n",
       "      <td>0.075866</td>\n",
       "      <td>-0.166871</td>\n",
       "      <td>-0.019175</td>\n",
       "      <td>-0.066107</td>\n",
       "      <td>0.176809</td>\n",
       "      <td>0.220426</td>\n",
       "      <td>0.445647</td>\n",
       "      <td>-0.141407</td>\n",
       "      <td>-0.181229</td>\n",
       "      <td>-0.229602</td>\n",
       "      <td>-0.015485</td>\n",
       "      <td>-0.082429</td>\n",
       "      <td>-0.131800</td>\n",
       "      <td>-0.345580</td>\n",
       "      <td>-0.211020</td>\n",
       "      <td>0.608721</td>\n",
       "      <td>0.316845</td>\n",
       "      <td>0.291920</td>\n",
       "      <td>0.481148</td>\n",
       "      <td>0.494580</td>\n",
       "      <td>0.716663</td>\n",
       "      <td>2019</td>\n",
       "      <td>3</td>\n",
       "      <td>0.0</td>\n",
       "      <td>1.0</td>\n",
       "      <td>3.0</td>\n",
       "      <td>15.0</td>\n",
       "      <td>20.0</td>\n",
       "      <td>NaN</td>\n",
       "      <td>NaN</td>\n",
       "      <td>0.00</td>\n",
       "      <td>14.0</td>\n",
       "      <td>5.0</td>\n",
       "      <td>15.0</td>\n",
       "      <td>40.0</td>\n",
       "      <td>20.0</td>\n",
       "      <td>24.0</td>\n",
       "      <td>28.0</td>\n",
       "      <td>1.0</td>\n",
       "      <td>18.0</td>\n",
       "      <td>4.0</td>\n",
       "      <td>11.0</td>\n",
       "      <td>4.0</td>\n",
       "      <td>10.0</td>\n",
       "      <td>7.0</td>\n",
       "      <td>3.0</td>\n",
       "      <td>9.0</td>\n",
       "      <td>8.940679</td>\n",
       "    </tr>\n",
       "  </tbody>\n",
       "</table>\n",
       "<p>5 rows × 19930 columns</p>\n",
       "</div>"
      ],
      "text/plain": [
       "  participant_id  ADHD_Outcome  Sex_F  0throw_1thcolumn  0throw_2thcolumn  \\\n",
       "0   UmrK0vMLopoR             1      1          0.131179          0.624215   \n",
       "1   CPaeQkhcjg7d             1      0          0.566404          0.373010   \n",
       "2   Nb4EetVPm3gs             1      0          0.549076          0.654565   \n",
       "3   p4vPhVu91o4b             1      1          0.567373          0.361625   \n",
       "4   M09PXs7arQ5E             1      1          0.437908          0.747711   \n",
       "\n",
       "   0throw_3thcolumn  0throw_4thcolumn  0throw_5thcolumn  0throw_6thcolumn  \\\n",
       "0          0.277402          0.298592          0.759000          0.662423   \n",
       "1          0.620062          0.226501          0.388081          0.298320   \n",
       "2          0.568332          0.275605          0.309836          0.299008   \n",
       "3          0.545141          0.552430          0.503822          0.771487   \n",
       "4          0.319984          0.280362          0.545870          0.633710   \n",
       "\n",
       "   0throw_7thcolumn  0throw_8thcolumn  0throw_9thcolumn  0throw_10thcolumn  \\\n",
       "0          0.571035          0.467716          0.524176           0.431877   \n",
       "1          0.162486         -0.113101         -0.104712          -0.218897   \n",
       "2          0.313129         -0.003321          0.189899          -0.071062   \n",
       "3          0.803952          0.674752          0.653188           0.672416   \n",
       "4          0.458625          0.436592          0.531272           0.446092   \n",
       "\n",
       "   0throw_11thcolumn  0throw_12thcolumn  0throw_13thcolumn  0throw_14thcolumn  \\\n",
       "0           0.520218          -0.111022          -0.131423          -0.019404   \n",
       "1          -0.124157          -0.076453          -0.280378          -0.272335   \n",
       "2           0.143982          -0.091953           0.009807          -0.012467   \n",
       "3           0.653810          -0.227554           0.065508           0.157607   \n",
       "4           0.342235          -0.262251          -0.371831          -0.291152   \n",
       "\n",
       "   0throw_15thcolumn  0throw_16thcolumn  0throw_17thcolumn  0throw_18thcolumn  \\\n",
       "0          -0.087645          -0.141685          -0.011132           0.011524   \n",
       "1          -0.297827          -0.329922          -0.311892           0.160154   \n",
       "2           0.012967          -0.126908          -0.083618          -0.108008   \n",
       "3           0.059963           0.266176          -0.153354          -0.145353   \n",
       "4          -0.177720          -0.330068          -0.092646          -0.044453   \n",
       "\n",
       "   0throw_19thcolumn  0throw_20thcolumn  0throw_21thcolumn  0throw_22thcolumn  \\\n",
       "0           0.053835          -0.068349           0.092325           0.162111   \n",
       "1          -0.182421          -0.011465          -0.175892          -0.077345   \n",
       "2          -0.067233           0.167389           0.099339          -0.031546   \n",
       "3          -0.059449          -0.114707           0.064317          -0.024547   \n",
       "4          -0.118524          -0.132638          -0.224219          -0.180866   \n",
       "\n",
       "   0throw_23thcolumn  0throw_24thcolumn  0throw_25thcolumn  0throw_26thcolumn  \\\n",
       "0           0.110339           0.050189           0.186407           0.117441   \n",
       "1          -0.174914          -0.383742          -0.339158          -0.212239   \n",
       "2           0.248409          -0.054004           0.114214           0.069751   \n",
       "3          -0.142505           0.012722           0.027980          -0.208587   \n",
       "4          -0.106271           0.003844          -0.174695          -0.201529   \n",
       "\n",
       "   0throw_27thcolumn  0throw_28thcolumn  0throw_29thcolumn  0throw_30thcolumn  \\\n",
       "0           0.029032           0.446372           0.540902           0.326058   \n",
       "1          -0.197538           0.466234           0.251399           0.023384   \n",
       "2           0.027255           0.287550           0.428203           0.040075   \n",
       "3           0.128269           0.077947           0.481502           0.392917   \n",
       "4           0.114005           0.304847           0.431764           0.168027   \n",
       "\n",
       "   0throw_31thcolumn  0throw_32thcolumn  0throw_33thcolumn  0throw_34thcolumn  \\\n",
       "0           0.482136           0.482744           0.300210           0.102812   \n",
       "1           0.461355           0.265471           0.015526          -0.241855   \n",
       "2           0.272582           0.093797           0.001675          -0.069901   \n",
       "3          -0.113218          -0.092117          -0.028510          -0.002517   \n",
       "4           0.031155           0.013729          -0.225830          -0.355428   \n",
       "\n",
       "   0throw_35thcolumn  0throw_36thcolumn  0throw_37thcolumn  0throw_38thcolumn  \\\n",
       "0           0.227850           0.295776           0.351981          -0.002465   \n",
       "1          -0.146587          -0.410712          -0.088327          -0.264618   \n",
       "2           0.001889          -0.156405          -0.218839          -0.181800   \n",
       "3          -0.054955           0.064793          -0.068945          -0.265003   \n",
       "4          -0.293213          -0.254871           0.116523          -0.187742   \n",
       "\n",
       "   0throw_39thcolumn  0throw_40thcolumn  0throw_41thcolumn  0throw_42thcolumn  \\\n",
       "0           0.163335          -0.084952           0.016213          -0.025439   \n",
       "1          -0.124120          -0.001024          -0.096380           0.043276   \n",
       "2          -0.062380          -0.005695           0.187718          -0.034566   \n",
       "3           0.124763           0.228754          -0.037953           0.027900   \n",
       "4          -0.083137          -0.144247          -0.131957          -0.103847   \n",
       "\n",
       "   0throw_43thcolumn  0throw_44thcolumn  0throw_45thcolumn  0throw_46thcolumn  \\\n",
       "0           0.078814          -0.229631          -0.242848          -0.112944   \n",
       "1          -0.142665           0.004261          -0.195353           0.299896   \n",
       "2          -0.287475           0.165256           0.105787          -0.421214   \n",
       "3           0.172916          -0.239489          -0.241963          -0.012096   \n",
       "4          -0.026230          -0.179161          -0.112901          -0.152650   \n",
       "\n",
       "   0throw_47thcolumn  ...  192throw_198thcolumn  192throw_199thcolumn  \\\n",
       "0          -0.389435  ...              0.354238              0.252398   \n",
       "1           0.173379  ...             -0.138208             -0.266746   \n",
       "2          -0.375054  ...              0.524458              0.101916   \n",
       "3           0.152559  ...              0.579248              0.529565   \n",
       "4          -0.210690  ...              0.568147              0.373517   \n",
       "\n",
       "   193throw_194thcolumn  193throw_195thcolumn  193throw_196thcolumn  \\\n",
       "0              0.396294              0.273284              0.095622   \n",
       "1              0.135432              0.075570             -0.205510   \n",
       "2              0.505561              0.436748              0.076747   \n",
       "3              0.433339              0.309301              0.316757   \n",
       "4              0.075866             -0.166871             -0.019175   \n",
       "\n",
       "   193throw_197thcolumn  193throw_198thcolumn  193throw_199thcolumn  \\\n",
       "0              0.062186              0.110866              0.066288   \n",
       "1              0.168887              0.205291              0.328191   \n",
       "2             -0.193556              0.029367              0.261960   \n",
       "3              0.315654              0.339839              0.375125   \n",
       "4             -0.066107              0.176809              0.220426   \n",
       "\n",
       "   194throw_195thcolumn  194throw_196thcolumn  194throw_197thcolumn  \\\n",
       "0              0.746586              0.040584             -0.157698   \n",
       "1              0.401676              0.035492              0.091486   \n",
       "2              0.454753              0.111481             -0.322203   \n",
       "3              0.592171             -0.037884             -0.070940   \n",
       "4              0.445647             -0.141407             -0.181229   \n",
       "\n",
       "   194throw_198thcolumn  194throw_199thcolumn  195throw_196thcolumn  \\\n",
       "0             -0.097332              0.221569              0.073282   \n",
       "1              0.124476              0.111276              0.138573   \n",
       "2             -0.133290              0.057986              0.124581   \n",
       "3             -0.125819             -0.084336             -0.081272   \n",
       "4             -0.229602             -0.015485             -0.082429   \n",
       "\n",
       "   195throw_197thcolumn  195throw_198thcolumn  195throw_199thcolumn  \\\n",
       "0             -0.044925             -0.057102              0.260735   \n",
       "1              0.110515             -0.132631             -0.023360   \n",
       "2             -0.034945              0.058824              0.092067   \n",
       "3             -0.192391             -0.246083             -0.178243   \n",
       "4             -0.131800             -0.345580             -0.211020   \n",
       "\n",
       "   196throw_197thcolumn  196throw_198thcolumn  196throw_199thcolumn  \\\n",
       "0              0.458798              0.201057              0.207405   \n",
       "1              0.572922              0.572254              0.436960   \n",
       "2              0.429785              0.387289              0.328993   \n",
       "3              0.747706              0.601304              0.617073   \n",
       "4              0.608721              0.316845              0.291920   \n",
       "\n",
       "   197throw_198thcolumn  197throw_199thcolumn  198throw_199thcolumn  \\\n",
       "0              0.606301              0.586939              0.460227   \n",
       "1              0.570057              0.565683              0.718430   \n",
       "2              0.637749              0.108923              0.149962   \n",
       "3              0.728884              0.604767              0.848008   \n",
       "4              0.481148              0.494580              0.716663   \n",
       "\n",
       "   Basic_Demos_Enroll_Year  Basic_Demos_Study_Site  \\\n",
       "0                     2016                       1   \n",
       "1                     2019                       3   \n",
       "2                     2016                       1   \n",
       "3                     2018                       3   \n",
       "4                     2019                       3   \n",
       "\n",
       "   PreInt_Demos_Fam_Child_Ethnicity  PreInt_Demos_Fam_Child_Race  \\\n",
       "0                               0.0                          0.0   \n",
       "1                               1.0                          2.0   \n",
       "2                               1.0                          8.0   \n",
       "3                               0.0                          8.0   \n",
       "4                               0.0                          1.0   \n",
       "\n",
       "   MRI_Track_Scan_Location  Barratt_Barratt_P1_Edu  Barratt_Barratt_P1_Occ  \\\n",
       "0                      1.0                    21.0                    45.0   \n",
       "1                      3.0                    15.0                    15.0   \n",
       "2                      1.0                    18.0                    40.0   \n",
       "3                      3.0                    15.0                    30.0   \n",
       "4                      3.0                    15.0                    20.0   \n",
       "\n",
       "   Barratt_Barratt_P2_Edu  Barratt_Barratt_P2_Occ  EHQ_EHQ_Total  \\\n",
       "0                    21.0                    45.0          40.00   \n",
       "1                     NaN                     NaN         -94.47   \n",
       "2                     NaN                     NaN         -46.67   \n",
       "3                    18.0                     0.0         -26.68   \n",
       "4                     NaN                     NaN           0.00   \n",
       "\n",
       "   ColorVision_CV_Score  APQ_P_APQ_P_CP  APQ_P_APQ_P_ID  APQ_P_APQ_P_INV  \\\n",
       "0                  13.0             3.0            10.0             47.0   \n",
       "1                  14.0             3.0            13.0             34.0   \n",
       "2                  14.0             4.0            10.0             35.0   \n",
       "3                  10.0             5.0            12.0             39.0   \n",
       "4                  14.0             5.0            15.0             40.0   \n",
       "\n",
       "   APQ_P_APQ_P_OPD  APQ_P_APQ_P_PM  APQ_P_APQ_P_PP  SDQ_SDQ_Conduct_Problems  \\\n",
       "0             13.0            11.0            28.0                       0.0   \n",
       "1             18.0            23.0            30.0                       0.0   \n",
       "2             16.0            10.0            29.0                       1.0   \n",
       "3             19.0            16.0            28.0                       6.0   \n",
       "4             20.0            24.0            28.0                       1.0   \n",
       "\n",
       "   SDQ_SDQ_Difficulties_Total  SDQ_SDQ_Emotional_Problems  \\\n",
       "0                         6.0                         1.0   \n",
       "1                        18.0                         6.0   \n",
       "2                        14.0                         2.0   \n",
       "3                        24.0                         4.0   \n",
       "4                        18.0                         4.0   \n",
       "\n",
       "   SDQ_SDQ_Externalizing  SDQ_SDQ_Generating_Impact  SDQ_SDQ_Hyperactivity  \\\n",
       "0                    5.0                        0.0                    5.0   \n",
       "1                    8.0                        7.0                    8.0   \n",
       "2                    8.0                        5.0                    7.0   \n",
       "3                   16.0                        9.0                   10.0   \n",
       "4                   11.0                        4.0                   10.0   \n",
       "\n",
       "   SDQ_SDQ_Internalizing  SDQ_SDQ_Peer_Problems  SDQ_SDQ_Prosocial  \\\n",
       "0                    1.0                    0.0               10.0   \n",
       "1                   10.0                    4.0                5.0   \n",
       "2                    6.0                    4.0                9.0   \n",
       "3                    8.0                    4.0                6.0   \n",
       "4                    7.0                    3.0                9.0   \n",
       "\n",
       "   MRI_Track_Age_at_Scan  \n",
       "0                    NaN  \n",
       "1                    NaN  \n",
       "2               8.239904  \n",
       "3                    NaN  \n",
       "4               8.940679  \n",
       "\n",
       "[5 rows x 19930 columns]"
      ]
     },
     "execution_count": 3,
     "metadata": {},
     "output_type": "execute_result"
    }
   ],
   "source": [
    "# Merge into one DataFrame called 'wd'\n",
    "wd = targets.copy()\n",
    "wd = wd.merge(connectome, on='participant_id', how='left')\n",
    "wd = wd.merge(cat_meta, on='participant_id', how='left')\n",
    "wd = wd.merge(quant_meta, on='participant_id', how='left')\n",
    "\n",
    "# Quick shape check\n",
    "print(\"✅ Shape of merged training data:\", wd.shape)\n",
    "wd.head()\n"
   ]
  },
  {
   "cell_type": "markdown",
   "id": "c8602cfb",
   "metadata": {
    "papermill": {
     "duration": 0.009277,
     "end_time": "2025-04-30T09:35:12.022918",
     "exception": false,
     "start_time": "2025-04-30T09:35:12.013641",
     "status": "completed"
    },
    "tags": []
   },
   "source": [
    "# 3: Data Overview"
   ]
  },
  {
   "cell_type": "markdown",
   "id": "08eea867",
   "metadata": {
    "papermill": {
     "duration": 0.009461,
     "end_time": "2025-04-30T09:35:12.041922",
     "exception": false,
     "start_time": "2025-04-30T09:35:12.032461",
     "status": "completed"
    },
    "tags": []
   },
   "source": [
    "3.1: Basic Info & Structure"
   ]
  },
  {
   "cell_type": "code",
   "execution_count": 4,
   "id": "1b5ff2c2",
   "metadata": {
    "execution": {
     "iopub.execute_input": "2025-04-30T09:35:12.062522Z",
     "iopub.status.busy": "2025-04-30T09:35:12.062175Z",
     "iopub.status.idle": "2025-04-30T09:35:12.067027Z",
     "shell.execute_reply": "2025-04-30T09:35:12.066067Z"
    },
    "papermill": {
     "duration": 0.016812,
     "end_time": "2025-04-30T09:35:12.068305",
     "exception": false,
     "start_time": "2025-04-30T09:35:12.051493",
     "status": "completed"
    },
    "tags": []
   },
   "outputs": [
    {
     "name": "stdout",
     "output_type": "stream",
     "text": [
      "Shape: (1213, 19930)\n"
     ]
    }
   ],
   "source": [
    "# Check shape and column list\n",
    "print(\"Shape:\", wd.shape)\n"
   ]
  },
  {
   "cell_type": "markdown",
   "id": "a4c939a3",
   "metadata": {
    "papermill": {
     "duration": 0.009447,
     "end_time": "2025-04-30T09:35:12.087578",
     "exception": false,
     "start_time": "2025-04-30T09:35:12.078131",
     "status": "completed"
    },
    "tags": []
   },
   "source": [
    "3.2: Peek at the Data"
   ]
  },
  {
   "cell_type": "code",
   "execution_count": 5,
   "id": "d3695ab1",
   "metadata": {
    "execution": {
     "iopub.execute_input": "2025-04-30T09:35:12.108174Z",
     "iopub.status.busy": "2025-04-30T09:35:12.107847Z",
     "iopub.status.idle": "2025-04-30T09:35:12.169300Z",
     "shell.execute_reply": "2025-04-30T09:35:12.168489Z"
    },
    "papermill": {
     "duration": 0.073262,
     "end_time": "2025-04-30T09:35:12.170524",
     "exception": false,
     "start_time": "2025-04-30T09:35:12.097262",
     "status": "completed"
    },
    "tags": []
   },
   "outputs": [
    {
     "name": "stderr",
     "output_type": "stream",
     "text": [
      "/usr/local/lib/python3.11/dist-packages/pandas/io/formats/format.py:1458: RuntimeWarning: invalid value encountered in greater\n",
      "  has_large_values = (abs_vals > 1e6).any()\n",
      "/usr/local/lib/python3.11/dist-packages/pandas/io/formats/format.py:1459: RuntimeWarning: invalid value encountered in less\n",
      "  has_small_values = ((abs_vals < 10 ** (-self.digits)) & (abs_vals > 0)).any()\n",
      "/usr/local/lib/python3.11/dist-packages/pandas/io/formats/format.py:1459: RuntimeWarning: invalid value encountered in greater\n",
      "  has_small_values = ((abs_vals < 10 ** (-self.digits)) & (abs_vals > 0)).any()\n",
      "/usr/local/lib/python3.11/dist-packages/pandas/io/formats/format.py:1458: RuntimeWarning: invalid value encountered in greater\n",
      "  has_large_values = (abs_vals > 1e6).any()\n",
      "/usr/local/lib/python3.11/dist-packages/pandas/io/formats/format.py:1459: RuntimeWarning: invalid value encountered in less\n",
      "  has_small_values = ((abs_vals < 10 ** (-self.digits)) & (abs_vals > 0)).any()\n",
      "/usr/local/lib/python3.11/dist-packages/pandas/io/formats/format.py:1459: RuntimeWarning: invalid value encountered in greater\n",
      "  has_small_values = ((abs_vals < 10 ** (-self.digits)) & (abs_vals > 0)).any()\n"
     ]
    },
    {
     "data": {
      "text/html": [
       "<div>\n",
       "<style scoped>\n",
       "    .dataframe tbody tr th:only-of-type {\n",
       "        vertical-align: middle;\n",
       "    }\n",
       "\n",
       "    .dataframe tbody tr th {\n",
       "        vertical-align: top;\n",
       "    }\n",
       "\n",
       "    .dataframe thead th {\n",
       "        text-align: right;\n",
       "    }\n",
       "</style>\n",
       "<table border=\"1\" class=\"dataframe\">\n",
       "  <thead>\n",
       "    <tr style=\"text-align: right;\">\n",
       "      <th></th>\n",
       "      <th>participant_id</th>\n",
       "      <th>ADHD_Outcome</th>\n",
       "      <th>Sex_F</th>\n",
       "      <th>0throw_1thcolumn</th>\n",
       "      <th>0throw_2thcolumn</th>\n",
       "      <th>0throw_3thcolumn</th>\n",
       "      <th>0throw_4thcolumn</th>\n",
       "      <th>0throw_5thcolumn</th>\n",
       "      <th>0throw_6thcolumn</th>\n",
       "      <th>0throw_7thcolumn</th>\n",
       "      <th>0throw_8thcolumn</th>\n",
       "      <th>0throw_9thcolumn</th>\n",
       "      <th>0throw_10thcolumn</th>\n",
       "      <th>0throw_11thcolumn</th>\n",
       "      <th>0throw_12thcolumn</th>\n",
       "      <th>0throw_13thcolumn</th>\n",
       "      <th>0throw_14thcolumn</th>\n",
       "      <th>0throw_15thcolumn</th>\n",
       "      <th>0throw_16thcolumn</th>\n",
       "      <th>0throw_17thcolumn</th>\n",
       "      <th>0throw_18thcolumn</th>\n",
       "      <th>0throw_19thcolumn</th>\n",
       "      <th>0throw_20thcolumn</th>\n",
       "      <th>0throw_21thcolumn</th>\n",
       "      <th>0throw_22thcolumn</th>\n",
       "      <th>0throw_23thcolumn</th>\n",
       "      <th>0throw_24thcolumn</th>\n",
       "      <th>0throw_25thcolumn</th>\n",
       "      <th>0throw_26thcolumn</th>\n",
       "      <th>0throw_27thcolumn</th>\n",
       "      <th>0throw_28thcolumn</th>\n",
       "      <th>0throw_29thcolumn</th>\n",
       "      <th>0throw_30thcolumn</th>\n",
       "      <th>0throw_31thcolumn</th>\n",
       "      <th>0throw_32thcolumn</th>\n",
       "      <th>0throw_33thcolumn</th>\n",
       "      <th>0throw_34thcolumn</th>\n",
       "      <th>0throw_35thcolumn</th>\n",
       "      <th>0throw_36thcolumn</th>\n",
       "      <th>0throw_37thcolumn</th>\n",
       "      <th>0throw_38thcolumn</th>\n",
       "      <th>0throw_39thcolumn</th>\n",
       "      <th>0throw_40thcolumn</th>\n",
       "      <th>0throw_41thcolumn</th>\n",
       "      <th>0throw_42thcolumn</th>\n",
       "      <th>0throw_43thcolumn</th>\n",
       "      <th>0throw_44thcolumn</th>\n",
       "      <th>0throw_45thcolumn</th>\n",
       "      <th>0throw_46thcolumn</th>\n",
       "      <th>0throw_47thcolumn</th>\n",
       "      <th>...</th>\n",
       "      <th>192throw_198thcolumn</th>\n",
       "      <th>192throw_199thcolumn</th>\n",
       "      <th>193throw_194thcolumn</th>\n",
       "      <th>193throw_195thcolumn</th>\n",
       "      <th>193throw_196thcolumn</th>\n",
       "      <th>193throw_197thcolumn</th>\n",
       "      <th>193throw_198thcolumn</th>\n",
       "      <th>193throw_199thcolumn</th>\n",
       "      <th>194throw_195thcolumn</th>\n",
       "      <th>194throw_196thcolumn</th>\n",
       "      <th>194throw_197thcolumn</th>\n",
       "      <th>194throw_198thcolumn</th>\n",
       "      <th>194throw_199thcolumn</th>\n",
       "      <th>195throw_196thcolumn</th>\n",
       "      <th>195throw_197thcolumn</th>\n",
       "      <th>195throw_198thcolumn</th>\n",
       "      <th>195throw_199thcolumn</th>\n",
       "      <th>196throw_197thcolumn</th>\n",
       "      <th>196throw_198thcolumn</th>\n",
       "      <th>196throw_199thcolumn</th>\n",
       "      <th>197throw_198thcolumn</th>\n",
       "      <th>197throw_199thcolumn</th>\n",
       "      <th>198throw_199thcolumn</th>\n",
       "      <th>Basic_Demos_Enroll_Year</th>\n",
       "      <th>Basic_Demos_Study_Site</th>\n",
       "      <th>PreInt_Demos_Fam_Child_Ethnicity</th>\n",
       "      <th>PreInt_Demos_Fam_Child_Race</th>\n",
       "      <th>MRI_Track_Scan_Location</th>\n",
       "      <th>Barratt_Barratt_P1_Edu</th>\n",
       "      <th>Barratt_Barratt_P1_Occ</th>\n",
       "      <th>Barratt_Barratt_P2_Edu</th>\n",
       "      <th>Barratt_Barratt_P2_Occ</th>\n",
       "      <th>EHQ_EHQ_Total</th>\n",
       "      <th>ColorVision_CV_Score</th>\n",
       "      <th>APQ_P_APQ_P_CP</th>\n",
       "      <th>APQ_P_APQ_P_ID</th>\n",
       "      <th>APQ_P_APQ_P_INV</th>\n",
       "      <th>APQ_P_APQ_P_OPD</th>\n",
       "      <th>APQ_P_APQ_P_PM</th>\n",
       "      <th>APQ_P_APQ_P_PP</th>\n",
       "      <th>SDQ_SDQ_Conduct_Problems</th>\n",
       "      <th>SDQ_SDQ_Difficulties_Total</th>\n",
       "      <th>SDQ_SDQ_Emotional_Problems</th>\n",
       "      <th>SDQ_SDQ_Externalizing</th>\n",
       "      <th>SDQ_SDQ_Generating_Impact</th>\n",
       "      <th>SDQ_SDQ_Hyperactivity</th>\n",
       "      <th>SDQ_SDQ_Internalizing</th>\n",
       "      <th>SDQ_SDQ_Peer_Problems</th>\n",
       "      <th>SDQ_SDQ_Prosocial</th>\n",
       "      <th>MRI_Track_Age_at_Scan</th>\n",
       "    </tr>\n",
       "  </thead>\n",
       "  <tbody>\n",
       "    <tr>\n",
       "      <th>0</th>\n",
       "      <td>UmrK0vMLopoR</td>\n",
       "      <td>1</td>\n",
       "      <td>1</td>\n",
       "      <td>0.131179</td>\n",
       "      <td>0.624215</td>\n",
       "      <td>0.277402</td>\n",
       "      <td>0.298592</td>\n",
       "      <td>0.759000</td>\n",
       "      <td>0.662423</td>\n",
       "      <td>0.571035</td>\n",
       "      <td>0.467716</td>\n",
       "      <td>0.524176</td>\n",
       "      <td>0.431877</td>\n",
       "      <td>0.520218</td>\n",
       "      <td>-0.111022</td>\n",
       "      <td>-0.131423</td>\n",
       "      <td>-0.019404</td>\n",
       "      <td>-0.087645</td>\n",
       "      <td>-0.141685</td>\n",
       "      <td>-0.011132</td>\n",
       "      <td>0.011524</td>\n",
       "      <td>0.053835</td>\n",
       "      <td>-0.068349</td>\n",
       "      <td>0.092325</td>\n",
       "      <td>0.162111</td>\n",
       "      <td>0.110339</td>\n",
       "      <td>0.050189</td>\n",
       "      <td>0.186407</td>\n",
       "      <td>0.117441</td>\n",
       "      <td>0.029032</td>\n",
       "      <td>0.446372</td>\n",
       "      <td>0.540902</td>\n",
       "      <td>0.326058</td>\n",
       "      <td>0.482136</td>\n",
       "      <td>0.482744</td>\n",
       "      <td>0.300210</td>\n",
       "      <td>0.102812</td>\n",
       "      <td>0.227850</td>\n",
       "      <td>0.295776</td>\n",
       "      <td>0.351981</td>\n",
       "      <td>-0.002465</td>\n",
       "      <td>0.163335</td>\n",
       "      <td>-0.084952</td>\n",
       "      <td>0.016213</td>\n",
       "      <td>-0.025439</td>\n",
       "      <td>0.078814</td>\n",
       "      <td>-0.229631</td>\n",
       "      <td>-0.242848</td>\n",
       "      <td>-0.112944</td>\n",
       "      <td>-0.389435</td>\n",
       "      <td>...</td>\n",
       "      <td>0.354238</td>\n",
       "      <td>0.252398</td>\n",
       "      <td>0.396294</td>\n",
       "      <td>0.273284</td>\n",
       "      <td>0.095622</td>\n",
       "      <td>0.062186</td>\n",
       "      <td>0.110866</td>\n",
       "      <td>0.066288</td>\n",
       "      <td>0.746586</td>\n",
       "      <td>0.040584</td>\n",
       "      <td>-0.157698</td>\n",
       "      <td>-0.097332</td>\n",
       "      <td>0.221569</td>\n",
       "      <td>0.073282</td>\n",
       "      <td>-0.044925</td>\n",
       "      <td>-0.057102</td>\n",
       "      <td>0.260735</td>\n",
       "      <td>0.458798</td>\n",
       "      <td>0.201057</td>\n",
       "      <td>0.207405</td>\n",
       "      <td>0.606301</td>\n",
       "      <td>0.586939</td>\n",
       "      <td>0.460227</td>\n",
       "      <td>2016</td>\n",
       "      <td>1</td>\n",
       "      <td>0.0</td>\n",
       "      <td>0.0</td>\n",
       "      <td>1.0</td>\n",
       "      <td>21.0</td>\n",
       "      <td>45.0</td>\n",
       "      <td>21.0</td>\n",
       "      <td>45.0</td>\n",
       "      <td>40.00</td>\n",
       "      <td>13.0</td>\n",
       "      <td>3.0</td>\n",
       "      <td>10.0</td>\n",
       "      <td>47.0</td>\n",
       "      <td>13.0</td>\n",
       "      <td>11.0</td>\n",
       "      <td>28.0</td>\n",
       "      <td>0.0</td>\n",
       "      <td>6.0</td>\n",
       "      <td>1.0</td>\n",
       "      <td>5.0</td>\n",
       "      <td>0.0</td>\n",
       "      <td>5.0</td>\n",
       "      <td>1.0</td>\n",
       "      <td>0.0</td>\n",
       "      <td>10.0</td>\n",
       "      <td>NaN</td>\n",
       "    </tr>\n",
       "    <tr>\n",
       "      <th>1</th>\n",
       "      <td>CPaeQkhcjg7d</td>\n",
       "      <td>1</td>\n",
       "      <td>0</td>\n",
       "      <td>0.566404</td>\n",
       "      <td>0.373010</td>\n",
       "      <td>0.620062</td>\n",
       "      <td>0.226501</td>\n",
       "      <td>0.388081</td>\n",
       "      <td>0.298320</td>\n",
       "      <td>0.162486</td>\n",
       "      <td>-0.113101</td>\n",
       "      <td>-0.104712</td>\n",
       "      <td>-0.218897</td>\n",
       "      <td>-0.124157</td>\n",
       "      <td>-0.076453</td>\n",
       "      <td>-0.280378</td>\n",
       "      <td>-0.272335</td>\n",
       "      <td>-0.297827</td>\n",
       "      <td>-0.329922</td>\n",
       "      <td>-0.311892</td>\n",
       "      <td>0.160154</td>\n",
       "      <td>-0.182421</td>\n",
       "      <td>-0.011465</td>\n",
       "      <td>-0.175892</td>\n",
       "      <td>-0.077345</td>\n",
       "      <td>-0.174914</td>\n",
       "      <td>-0.383742</td>\n",
       "      <td>-0.339158</td>\n",
       "      <td>-0.212239</td>\n",
       "      <td>-0.197538</td>\n",
       "      <td>0.466234</td>\n",
       "      <td>0.251399</td>\n",
       "      <td>0.023384</td>\n",
       "      <td>0.461355</td>\n",
       "      <td>0.265471</td>\n",
       "      <td>0.015526</td>\n",
       "      <td>-0.241855</td>\n",
       "      <td>-0.146587</td>\n",
       "      <td>-0.410712</td>\n",
       "      <td>-0.088327</td>\n",
       "      <td>-0.264618</td>\n",
       "      <td>-0.124120</td>\n",
       "      <td>-0.001024</td>\n",
       "      <td>-0.096380</td>\n",
       "      <td>0.043276</td>\n",
       "      <td>-0.142665</td>\n",
       "      <td>0.004261</td>\n",
       "      <td>-0.195353</td>\n",
       "      <td>0.299896</td>\n",
       "      <td>0.173379</td>\n",
       "      <td>...</td>\n",
       "      <td>-0.138208</td>\n",
       "      <td>-0.266746</td>\n",
       "      <td>0.135432</td>\n",
       "      <td>0.075570</td>\n",
       "      <td>-0.205510</td>\n",
       "      <td>0.168887</td>\n",
       "      <td>0.205291</td>\n",
       "      <td>0.328191</td>\n",
       "      <td>0.401676</td>\n",
       "      <td>0.035492</td>\n",
       "      <td>0.091486</td>\n",
       "      <td>0.124476</td>\n",
       "      <td>0.111276</td>\n",
       "      <td>0.138573</td>\n",
       "      <td>0.110515</td>\n",
       "      <td>-0.132631</td>\n",
       "      <td>-0.023360</td>\n",
       "      <td>0.572922</td>\n",
       "      <td>0.572254</td>\n",
       "      <td>0.436960</td>\n",
       "      <td>0.570057</td>\n",
       "      <td>0.565683</td>\n",
       "      <td>0.718430</td>\n",
       "      <td>2019</td>\n",
       "      <td>3</td>\n",
       "      <td>1.0</td>\n",
       "      <td>2.0</td>\n",
       "      <td>3.0</td>\n",
       "      <td>15.0</td>\n",
       "      <td>15.0</td>\n",
       "      <td>NaN</td>\n",
       "      <td>NaN</td>\n",
       "      <td>-94.47</td>\n",
       "      <td>14.0</td>\n",
       "      <td>3.0</td>\n",
       "      <td>13.0</td>\n",
       "      <td>34.0</td>\n",
       "      <td>18.0</td>\n",
       "      <td>23.0</td>\n",
       "      <td>30.0</td>\n",
       "      <td>0.0</td>\n",
       "      <td>18.0</td>\n",
       "      <td>6.0</td>\n",
       "      <td>8.0</td>\n",
       "      <td>7.0</td>\n",
       "      <td>8.0</td>\n",
       "      <td>10.0</td>\n",
       "      <td>4.0</td>\n",
       "      <td>5.0</td>\n",
       "      <td>NaN</td>\n",
       "    </tr>\n",
       "    <tr>\n",
       "      <th>2</th>\n",
       "      <td>Nb4EetVPm3gs</td>\n",
       "      <td>1</td>\n",
       "      <td>0</td>\n",
       "      <td>0.549076</td>\n",
       "      <td>0.654565</td>\n",
       "      <td>0.568332</td>\n",
       "      <td>0.275605</td>\n",
       "      <td>0.309836</td>\n",
       "      <td>0.299008</td>\n",
       "      <td>0.313129</td>\n",
       "      <td>-0.003321</td>\n",
       "      <td>0.189899</td>\n",
       "      <td>-0.071062</td>\n",
       "      <td>0.143982</td>\n",
       "      <td>-0.091953</td>\n",
       "      <td>0.009807</td>\n",
       "      <td>-0.012467</td>\n",
       "      <td>0.012967</td>\n",
       "      <td>-0.126908</td>\n",
       "      <td>-0.083618</td>\n",
       "      <td>-0.108008</td>\n",
       "      <td>-0.067233</td>\n",
       "      <td>0.167389</td>\n",
       "      <td>0.099339</td>\n",
       "      <td>-0.031546</td>\n",
       "      <td>0.248409</td>\n",
       "      <td>-0.054004</td>\n",
       "      <td>0.114214</td>\n",
       "      <td>0.069751</td>\n",
       "      <td>0.027255</td>\n",
       "      <td>0.287550</td>\n",
       "      <td>0.428203</td>\n",
       "      <td>0.040075</td>\n",
       "      <td>0.272582</td>\n",
       "      <td>0.093797</td>\n",
       "      <td>0.001675</td>\n",
       "      <td>-0.069901</td>\n",
       "      <td>0.001889</td>\n",
       "      <td>-0.156405</td>\n",
       "      <td>-0.218839</td>\n",
       "      <td>-0.181800</td>\n",
       "      <td>-0.062380</td>\n",
       "      <td>-0.005695</td>\n",
       "      <td>0.187718</td>\n",
       "      <td>-0.034566</td>\n",
       "      <td>-0.287475</td>\n",
       "      <td>0.165256</td>\n",
       "      <td>0.105787</td>\n",
       "      <td>-0.421214</td>\n",
       "      <td>-0.375054</td>\n",
       "      <td>...</td>\n",
       "      <td>0.524458</td>\n",
       "      <td>0.101916</td>\n",
       "      <td>0.505561</td>\n",
       "      <td>0.436748</td>\n",
       "      <td>0.076747</td>\n",
       "      <td>-0.193556</td>\n",
       "      <td>0.029367</td>\n",
       "      <td>0.261960</td>\n",
       "      <td>0.454753</td>\n",
       "      <td>0.111481</td>\n",
       "      <td>-0.322203</td>\n",
       "      <td>-0.133290</td>\n",
       "      <td>0.057986</td>\n",
       "      <td>0.124581</td>\n",
       "      <td>-0.034945</td>\n",
       "      <td>0.058824</td>\n",
       "      <td>0.092067</td>\n",
       "      <td>0.429785</td>\n",
       "      <td>0.387289</td>\n",
       "      <td>0.328993</td>\n",
       "      <td>0.637749</td>\n",
       "      <td>0.108923</td>\n",
       "      <td>0.149962</td>\n",
       "      <td>2016</td>\n",
       "      <td>1</td>\n",
       "      <td>1.0</td>\n",
       "      <td>8.0</td>\n",
       "      <td>1.0</td>\n",
       "      <td>18.0</td>\n",
       "      <td>40.0</td>\n",
       "      <td>NaN</td>\n",
       "      <td>NaN</td>\n",
       "      <td>-46.67</td>\n",
       "      <td>14.0</td>\n",
       "      <td>4.0</td>\n",
       "      <td>10.0</td>\n",
       "      <td>35.0</td>\n",
       "      <td>16.0</td>\n",
       "      <td>10.0</td>\n",
       "      <td>29.0</td>\n",
       "      <td>1.0</td>\n",
       "      <td>14.0</td>\n",
       "      <td>2.0</td>\n",
       "      <td>8.0</td>\n",
       "      <td>5.0</td>\n",
       "      <td>7.0</td>\n",
       "      <td>6.0</td>\n",
       "      <td>4.0</td>\n",
       "      <td>9.0</td>\n",
       "      <td>8.239904</td>\n",
       "    </tr>\n",
       "    <tr>\n",
       "      <th>3</th>\n",
       "      <td>p4vPhVu91o4b</td>\n",
       "      <td>1</td>\n",
       "      <td>1</td>\n",
       "      <td>0.567373</td>\n",
       "      <td>0.361625</td>\n",
       "      <td>0.545141</td>\n",
       "      <td>0.552430</td>\n",
       "      <td>0.503822</td>\n",
       "      <td>0.771487</td>\n",
       "      <td>0.803952</td>\n",
       "      <td>0.674752</td>\n",
       "      <td>0.653188</td>\n",
       "      <td>0.672416</td>\n",
       "      <td>0.653810</td>\n",
       "      <td>-0.227554</td>\n",
       "      <td>0.065508</td>\n",
       "      <td>0.157607</td>\n",
       "      <td>0.059963</td>\n",
       "      <td>0.266176</td>\n",
       "      <td>-0.153354</td>\n",
       "      <td>-0.145353</td>\n",
       "      <td>-0.059449</td>\n",
       "      <td>-0.114707</td>\n",
       "      <td>0.064317</td>\n",
       "      <td>-0.024547</td>\n",
       "      <td>-0.142505</td>\n",
       "      <td>0.012722</td>\n",
       "      <td>0.027980</td>\n",
       "      <td>-0.208587</td>\n",
       "      <td>0.128269</td>\n",
       "      <td>0.077947</td>\n",
       "      <td>0.481502</td>\n",
       "      <td>0.392917</td>\n",
       "      <td>-0.113218</td>\n",
       "      <td>-0.092117</td>\n",
       "      <td>-0.028510</td>\n",
       "      <td>-0.002517</td>\n",
       "      <td>-0.054955</td>\n",
       "      <td>0.064793</td>\n",
       "      <td>-0.068945</td>\n",
       "      <td>-0.265003</td>\n",
       "      <td>0.124763</td>\n",
       "      <td>0.228754</td>\n",
       "      <td>-0.037953</td>\n",
       "      <td>0.027900</td>\n",
       "      <td>0.172916</td>\n",
       "      <td>-0.239489</td>\n",
       "      <td>-0.241963</td>\n",
       "      <td>-0.012096</td>\n",
       "      <td>0.152559</td>\n",
       "      <td>...</td>\n",
       "      <td>0.579248</td>\n",
       "      <td>0.529565</td>\n",
       "      <td>0.433339</td>\n",
       "      <td>0.309301</td>\n",
       "      <td>0.316757</td>\n",
       "      <td>0.315654</td>\n",
       "      <td>0.339839</td>\n",
       "      <td>0.375125</td>\n",
       "      <td>0.592171</td>\n",
       "      <td>-0.037884</td>\n",
       "      <td>-0.070940</td>\n",
       "      <td>-0.125819</td>\n",
       "      <td>-0.084336</td>\n",
       "      <td>-0.081272</td>\n",
       "      <td>-0.192391</td>\n",
       "      <td>-0.246083</td>\n",
       "      <td>-0.178243</td>\n",
       "      <td>0.747706</td>\n",
       "      <td>0.601304</td>\n",
       "      <td>0.617073</td>\n",
       "      <td>0.728884</td>\n",
       "      <td>0.604767</td>\n",
       "      <td>0.848008</td>\n",
       "      <td>2018</td>\n",
       "      <td>3</td>\n",
       "      <td>0.0</td>\n",
       "      <td>8.0</td>\n",
       "      <td>3.0</td>\n",
       "      <td>15.0</td>\n",
       "      <td>30.0</td>\n",
       "      <td>18.0</td>\n",
       "      <td>0.0</td>\n",
       "      <td>-26.68</td>\n",
       "      <td>10.0</td>\n",
       "      <td>5.0</td>\n",
       "      <td>12.0</td>\n",
       "      <td>39.0</td>\n",
       "      <td>19.0</td>\n",
       "      <td>16.0</td>\n",
       "      <td>28.0</td>\n",
       "      <td>6.0</td>\n",
       "      <td>24.0</td>\n",
       "      <td>4.0</td>\n",
       "      <td>16.0</td>\n",
       "      <td>9.0</td>\n",
       "      <td>10.0</td>\n",
       "      <td>8.0</td>\n",
       "      <td>4.0</td>\n",
       "      <td>6.0</td>\n",
       "      <td>NaN</td>\n",
       "    </tr>\n",
       "    <tr>\n",
       "      <th>4</th>\n",
       "      <td>M09PXs7arQ5E</td>\n",
       "      <td>1</td>\n",
       "      <td>1</td>\n",
       "      <td>0.437908</td>\n",
       "      <td>0.747711</td>\n",
       "      <td>0.319984</td>\n",
       "      <td>0.280362</td>\n",
       "      <td>0.545870</td>\n",
       "      <td>0.633710</td>\n",
       "      <td>0.458625</td>\n",
       "      <td>0.436592</td>\n",
       "      <td>0.531272</td>\n",
       "      <td>0.446092</td>\n",
       "      <td>0.342235</td>\n",
       "      <td>-0.262251</td>\n",
       "      <td>-0.371831</td>\n",
       "      <td>-0.291152</td>\n",
       "      <td>-0.177720</td>\n",
       "      <td>-0.330068</td>\n",
       "      <td>-0.092646</td>\n",
       "      <td>-0.044453</td>\n",
       "      <td>-0.118524</td>\n",
       "      <td>-0.132638</td>\n",
       "      <td>-0.224219</td>\n",
       "      <td>-0.180866</td>\n",
       "      <td>-0.106271</td>\n",
       "      <td>0.003844</td>\n",
       "      <td>-0.174695</td>\n",
       "      <td>-0.201529</td>\n",
       "      <td>0.114005</td>\n",
       "      <td>0.304847</td>\n",
       "      <td>0.431764</td>\n",
       "      <td>0.168027</td>\n",
       "      <td>0.031155</td>\n",
       "      <td>0.013729</td>\n",
       "      <td>-0.225830</td>\n",
       "      <td>-0.355428</td>\n",
       "      <td>-0.293213</td>\n",
       "      <td>-0.254871</td>\n",
       "      <td>0.116523</td>\n",
       "      <td>-0.187742</td>\n",
       "      <td>-0.083137</td>\n",
       "      <td>-0.144247</td>\n",
       "      <td>-0.131957</td>\n",
       "      <td>-0.103847</td>\n",
       "      <td>-0.026230</td>\n",
       "      <td>-0.179161</td>\n",
       "      <td>-0.112901</td>\n",
       "      <td>-0.152650</td>\n",
       "      <td>-0.210690</td>\n",
       "      <td>...</td>\n",
       "      <td>0.568147</td>\n",
       "      <td>0.373517</td>\n",
       "      <td>0.075866</td>\n",
       "      <td>-0.166871</td>\n",
       "      <td>-0.019175</td>\n",
       "      <td>-0.066107</td>\n",
       "      <td>0.176809</td>\n",
       "      <td>0.220426</td>\n",
       "      <td>0.445647</td>\n",
       "      <td>-0.141407</td>\n",
       "      <td>-0.181229</td>\n",
       "      <td>-0.229602</td>\n",
       "      <td>-0.015485</td>\n",
       "      <td>-0.082429</td>\n",
       "      <td>-0.131800</td>\n",
       "      <td>-0.345580</td>\n",
       "      <td>-0.211020</td>\n",
       "      <td>0.608721</td>\n",
       "      <td>0.316845</td>\n",
       "      <td>0.291920</td>\n",
       "      <td>0.481148</td>\n",
       "      <td>0.494580</td>\n",
       "      <td>0.716663</td>\n",
       "      <td>2019</td>\n",
       "      <td>3</td>\n",
       "      <td>0.0</td>\n",
       "      <td>1.0</td>\n",
       "      <td>3.0</td>\n",
       "      <td>15.0</td>\n",
       "      <td>20.0</td>\n",
       "      <td>NaN</td>\n",
       "      <td>NaN</td>\n",
       "      <td>0.00</td>\n",
       "      <td>14.0</td>\n",
       "      <td>5.0</td>\n",
       "      <td>15.0</td>\n",
       "      <td>40.0</td>\n",
       "      <td>20.0</td>\n",
       "      <td>24.0</td>\n",
       "      <td>28.0</td>\n",
       "      <td>1.0</td>\n",
       "      <td>18.0</td>\n",
       "      <td>4.0</td>\n",
       "      <td>11.0</td>\n",
       "      <td>4.0</td>\n",
       "      <td>10.0</td>\n",
       "      <td>7.0</td>\n",
       "      <td>3.0</td>\n",
       "      <td>9.0</td>\n",
       "      <td>8.940679</td>\n",
       "    </tr>\n",
       "  </tbody>\n",
       "</table>\n",
       "<p>5 rows × 19930 columns</p>\n",
       "</div>"
      ],
      "text/plain": [
       "  participant_id  ADHD_Outcome  Sex_F  0throw_1thcolumn  0throw_2thcolumn  \\\n",
       "0   UmrK0vMLopoR             1      1          0.131179          0.624215   \n",
       "1   CPaeQkhcjg7d             1      0          0.566404          0.373010   \n",
       "2   Nb4EetVPm3gs             1      0          0.549076          0.654565   \n",
       "3   p4vPhVu91o4b             1      1          0.567373          0.361625   \n",
       "4   M09PXs7arQ5E             1      1          0.437908          0.747711   \n",
       "\n",
       "   0throw_3thcolumn  0throw_4thcolumn  0throw_5thcolumn  0throw_6thcolumn  \\\n",
       "0          0.277402          0.298592          0.759000          0.662423   \n",
       "1          0.620062          0.226501          0.388081          0.298320   \n",
       "2          0.568332          0.275605          0.309836          0.299008   \n",
       "3          0.545141          0.552430          0.503822          0.771487   \n",
       "4          0.319984          0.280362          0.545870          0.633710   \n",
       "\n",
       "   0throw_7thcolumn  0throw_8thcolumn  0throw_9thcolumn  0throw_10thcolumn  \\\n",
       "0          0.571035          0.467716          0.524176           0.431877   \n",
       "1          0.162486         -0.113101         -0.104712          -0.218897   \n",
       "2          0.313129         -0.003321          0.189899          -0.071062   \n",
       "3          0.803952          0.674752          0.653188           0.672416   \n",
       "4          0.458625          0.436592          0.531272           0.446092   \n",
       "\n",
       "   0throw_11thcolumn  0throw_12thcolumn  0throw_13thcolumn  0throw_14thcolumn  \\\n",
       "0           0.520218          -0.111022          -0.131423          -0.019404   \n",
       "1          -0.124157          -0.076453          -0.280378          -0.272335   \n",
       "2           0.143982          -0.091953           0.009807          -0.012467   \n",
       "3           0.653810          -0.227554           0.065508           0.157607   \n",
       "4           0.342235          -0.262251          -0.371831          -0.291152   \n",
       "\n",
       "   0throw_15thcolumn  0throw_16thcolumn  0throw_17thcolumn  0throw_18thcolumn  \\\n",
       "0          -0.087645          -0.141685          -0.011132           0.011524   \n",
       "1          -0.297827          -0.329922          -0.311892           0.160154   \n",
       "2           0.012967          -0.126908          -0.083618          -0.108008   \n",
       "3           0.059963           0.266176          -0.153354          -0.145353   \n",
       "4          -0.177720          -0.330068          -0.092646          -0.044453   \n",
       "\n",
       "   0throw_19thcolumn  0throw_20thcolumn  0throw_21thcolumn  0throw_22thcolumn  \\\n",
       "0           0.053835          -0.068349           0.092325           0.162111   \n",
       "1          -0.182421          -0.011465          -0.175892          -0.077345   \n",
       "2          -0.067233           0.167389           0.099339          -0.031546   \n",
       "3          -0.059449          -0.114707           0.064317          -0.024547   \n",
       "4          -0.118524          -0.132638          -0.224219          -0.180866   \n",
       "\n",
       "   0throw_23thcolumn  0throw_24thcolumn  0throw_25thcolumn  0throw_26thcolumn  \\\n",
       "0           0.110339           0.050189           0.186407           0.117441   \n",
       "1          -0.174914          -0.383742          -0.339158          -0.212239   \n",
       "2           0.248409          -0.054004           0.114214           0.069751   \n",
       "3          -0.142505           0.012722           0.027980          -0.208587   \n",
       "4          -0.106271           0.003844          -0.174695          -0.201529   \n",
       "\n",
       "   0throw_27thcolumn  0throw_28thcolumn  0throw_29thcolumn  0throw_30thcolumn  \\\n",
       "0           0.029032           0.446372           0.540902           0.326058   \n",
       "1          -0.197538           0.466234           0.251399           0.023384   \n",
       "2           0.027255           0.287550           0.428203           0.040075   \n",
       "3           0.128269           0.077947           0.481502           0.392917   \n",
       "4           0.114005           0.304847           0.431764           0.168027   \n",
       "\n",
       "   0throw_31thcolumn  0throw_32thcolumn  0throw_33thcolumn  0throw_34thcolumn  \\\n",
       "0           0.482136           0.482744           0.300210           0.102812   \n",
       "1           0.461355           0.265471           0.015526          -0.241855   \n",
       "2           0.272582           0.093797           0.001675          -0.069901   \n",
       "3          -0.113218          -0.092117          -0.028510          -0.002517   \n",
       "4           0.031155           0.013729          -0.225830          -0.355428   \n",
       "\n",
       "   0throw_35thcolumn  0throw_36thcolumn  0throw_37thcolumn  0throw_38thcolumn  \\\n",
       "0           0.227850           0.295776           0.351981          -0.002465   \n",
       "1          -0.146587          -0.410712          -0.088327          -0.264618   \n",
       "2           0.001889          -0.156405          -0.218839          -0.181800   \n",
       "3          -0.054955           0.064793          -0.068945          -0.265003   \n",
       "4          -0.293213          -0.254871           0.116523          -0.187742   \n",
       "\n",
       "   0throw_39thcolumn  0throw_40thcolumn  0throw_41thcolumn  0throw_42thcolumn  \\\n",
       "0           0.163335          -0.084952           0.016213          -0.025439   \n",
       "1          -0.124120          -0.001024          -0.096380           0.043276   \n",
       "2          -0.062380          -0.005695           0.187718          -0.034566   \n",
       "3           0.124763           0.228754          -0.037953           0.027900   \n",
       "4          -0.083137          -0.144247          -0.131957          -0.103847   \n",
       "\n",
       "   0throw_43thcolumn  0throw_44thcolumn  0throw_45thcolumn  0throw_46thcolumn  \\\n",
       "0           0.078814          -0.229631          -0.242848          -0.112944   \n",
       "1          -0.142665           0.004261          -0.195353           0.299896   \n",
       "2          -0.287475           0.165256           0.105787          -0.421214   \n",
       "3           0.172916          -0.239489          -0.241963          -0.012096   \n",
       "4          -0.026230          -0.179161          -0.112901          -0.152650   \n",
       "\n",
       "   0throw_47thcolumn  ...  192throw_198thcolumn  192throw_199thcolumn  \\\n",
       "0          -0.389435  ...              0.354238              0.252398   \n",
       "1           0.173379  ...             -0.138208             -0.266746   \n",
       "2          -0.375054  ...              0.524458              0.101916   \n",
       "3           0.152559  ...              0.579248              0.529565   \n",
       "4          -0.210690  ...              0.568147              0.373517   \n",
       "\n",
       "   193throw_194thcolumn  193throw_195thcolumn  193throw_196thcolumn  \\\n",
       "0              0.396294              0.273284              0.095622   \n",
       "1              0.135432              0.075570             -0.205510   \n",
       "2              0.505561              0.436748              0.076747   \n",
       "3              0.433339              0.309301              0.316757   \n",
       "4              0.075866             -0.166871             -0.019175   \n",
       "\n",
       "   193throw_197thcolumn  193throw_198thcolumn  193throw_199thcolumn  \\\n",
       "0              0.062186              0.110866              0.066288   \n",
       "1              0.168887              0.205291              0.328191   \n",
       "2             -0.193556              0.029367              0.261960   \n",
       "3              0.315654              0.339839              0.375125   \n",
       "4             -0.066107              0.176809              0.220426   \n",
       "\n",
       "   194throw_195thcolumn  194throw_196thcolumn  194throw_197thcolumn  \\\n",
       "0              0.746586              0.040584             -0.157698   \n",
       "1              0.401676              0.035492              0.091486   \n",
       "2              0.454753              0.111481             -0.322203   \n",
       "3              0.592171             -0.037884             -0.070940   \n",
       "4              0.445647             -0.141407             -0.181229   \n",
       "\n",
       "   194throw_198thcolumn  194throw_199thcolumn  195throw_196thcolumn  \\\n",
       "0             -0.097332              0.221569              0.073282   \n",
       "1              0.124476              0.111276              0.138573   \n",
       "2             -0.133290              0.057986              0.124581   \n",
       "3             -0.125819             -0.084336             -0.081272   \n",
       "4             -0.229602             -0.015485             -0.082429   \n",
       "\n",
       "   195throw_197thcolumn  195throw_198thcolumn  195throw_199thcolumn  \\\n",
       "0             -0.044925             -0.057102              0.260735   \n",
       "1              0.110515             -0.132631             -0.023360   \n",
       "2             -0.034945              0.058824              0.092067   \n",
       "3             -0.192391             -0.246083             -0.178243   \n",
       "4             -0.131800             -0.345580             -0.211020   \n",
       "\n",
       "   196throw_197thcolumn  196throw_198thcolumn  196throw_199thcolumn  \\\n",
       "0              0.458798              0.201057              0.207405   \n",
       "1              0.572922              0.572254              0.436960   \n",
       "2              0.429785              0.387289              0.328993   \n",
       "3              0.747706              0.601304              0.617073   \n",
       "4              0.608721              0.316845              0.291920   \n",
       "\n",
       "   197throw_198thcolumn  197throw_199thcolumn  198throw_199thcolumn  \\\n",
       "0              0.606301              0.586939              0.460227   \n",
       "1              0.570057              0.565683              0.718430   \n",
       "2              0.637749              0.108923              0.149962   \n",
       "3              0.728884              0.604767              0.848008   \n",
       "4              0.481148              0.494580              0.716663   \n",
       "\n",
       "   Basic_Demos_Enroll_Year  Basic_Demos_Study_Site  \\\n",
       "0                     2016                       1   \n",
       "1                     2019                       3   \n",
       "2                     2016                       1   \n",
       "3                     2018                       3   \n",
       "4                     2019                       3   \n",
       "\n",
       "   PreInt_Demos_Fam_Child_Ethnicity  PreInt_Demos_Fam_Child_Race  \\\n",
       "0                               0.0                          0.0   \n",
       "1                               1.0                          2.0   \n",
       "2                               1.0                          8.0   \n",
       "3                               0.0                          8.0   \n",
       "4                               0.0                          1.0   \n",
       "\n",
       "   MRI_Track_Scan_Location  Barratt_Barratt_P1_Edu  Barratt_Barratt_P1_Occ  \\\n",
       "0                      1.0                    21.0                    45.0   \n",
       "1                      3.0                    15.0                    15.0   \n",
       "2                      1.0                    18.0                    40.0   \n",
       "3                      3.0                    15.0                    30.0   \n",
       "4                      3.0                    15.0                    20.0   \n",
       "\n",
       "   Barratt_Barratt_P2_Edu  Barratt_Barratt_P2_Occ  EHQ_EHQ_Total  \\\n",
       "0                    21.0                    45.0          40.00   \n",
       "1                     NaN                     NaN         -94.47   \n",
       "2                     NaN                     NaN         -46.67   \n",
       "3                    18.0                     0.0         -26.68   \n",
       "4                     NaN                     NaN           0.00   \n",
       "\n",
       "   ColorVision_CV_Score  APQ_P_APQ_P_CP  APQ_P_APQ_P_ID  APQ_P_APQ_P_INV  \\\n",
       "0                  13.0             3.0            10.0             47.0   \n",
       "1                  14.0             3.0            13.0             34.0   \n",
       "2                  14.0             4.0            10.0             35.0   \n",
       "3                  10.0             5.0            12.0             39.0   \n",
       "4                  14.0             5.0            15.0             40.0   \n",
       "\n",
       "   APQ_P_APQ_P_OPD  APQ_P_APQ_P_PM  APQ_P_APQ_P_PP  SDQ_SDQ_Conduct_Problems  \\\n",
       "0             13.0            11.0            28.0                       0.0   \n",
       "1             18.0            23.0            30.0                       0.0   \n",
       "2             16.0            10.0            29.0                       1.0   \n",
       "3             19.0            16.0            28.0                       6.0   \n",
       "4             20.0            24.0            28.0                       1.0   \n",
       "\n",
       "   SDQ_SDQ_Difficulties_Total  SDQ_SDQ_Emotional_Problems  \\\n",
       "0                         6.0                         1.0   \n",
       "1                        18.0                         6.0   \n",
       "2                        14.0                         2.0   \n",
       "3                        24.0                         4.0   \n",
       "4                        18.0                         4.0   \n",
       "\n",
       "   SDQ_SDQ_Externalizing  SDQ_SDQ_Generating_Impact  SDQ_SDQ_Hyperactivity  \\\n",
       "0                    5.0                        0.0                    5.0   \n",
       "1                    8.0                        7.0                    8.0   \n",
       "2                    8.0                        5.0                    7.0   \n",
       "3                   16.0                        9.0                   10.0   \n",
       "4                   11.0                        4.0                   10.0   \n",
       "\n",
       "   SDQ_SDQ_Internalizing  SDQ_SDQ_Peer_Problems  SDQ_SDQ_Prosocial  \\\n",
       "0                    1.0                    0.0               10.0   \n",
       "1                   10.0                    4.0                5.0   \n",
       "2                    6.0                    4.0                9.0   \n",
       "3                    8.0                    4.0                6.0   \n",
       "4                    7.0                    3.0                9.0   \n",
       "\n",
       "   MRI_Track_Age_at_Scan  \n",
       "0                    NaN  \n",
       "1                    NaN  \n",
       "2               8.239904  \n",
       "3                    NaN  \n",
       "4               8.940679  \n",
       "\n",
       "[5 rows x 19930 columns]"
      ]
     },
     "execution_count": 5,
     "metadata": {},
     "output_type": "execute_result"
    }
   ],
   "source": [
    "# Display the first few rows\n",
    "wd.head()"
   ]
  },
  {
   "cell_type": "markdown",
   "id": "6ba156b1",
   "metadata": {
    "papermill": {
     "duration": 0.010936,
     "end_time": "2025-04-30T09:35:12.193130",
     "exception": false,
     "start_time": "2025-04-30T09:35:12.182194",
     "status": "completed"
    },
    "tags": []
   },
   "source": [
    "3.3: Info Summary"
   ]
  },
  {
   "cell_type": "code",
   "execution_count": 6,
   "id": "f6adc8c5",
   "metadata": {
    "execution": {
     "iopub.execute_input": "2025-04-30T09:35:12.216399Z",
     "iopub.status.busy": "2025-04-30T09:35:12.215419Z",
     "iopub.status.idle": "2025-04-30T09:35:12.895912Z",
     "shell.execute_reply": "2025-04-30T09:35:12.894823Z"
    },
    "papermill": {
     "duration": 0.694238,
     "end_time": "2025-04-30T09:35:12.897954",
     "exception": false,
     "start_time": "2025-04-30T09:35:12.203716",
     "status": "completed"
    },
    "tags": []
   },
   "outputs": [
    {
     "name": "stdout",
     "output_type": "stream",
     "text": [
      "<class 'pandas.core.frame.DataFrame'>\n",
      "RangeIndex: 1213 entries, 0 to 1212\n",
      "Columns: 19930 entries, participant_id to MRI_Track_Age_at_Scan\n",
      "dtypes: float64(19925), int64(4), object(1)\n",
      "memory usage: 184.4+ MB\n"
     ]
    }
   ],
   "source": [
    "# Check data types and non-null counts\n",
    "wd.info()"
   ]
  },
  {
   "cell_type": "markdown",
   "id": "b1915dfc",
   "metadata": {
    "papermill": {
     "duration": 0.012678,
     "end_time": "2025-04-30T09:35:12.923787",
     "exception": false,
     "start_time": "2025-04-30T09:35:12.911109",
     "status": "completed"
    },
    "tags": []
   },
   "source": [
    "3.4: Missing Value Check"
   ]
  },
  {
   "cell_type": "code",
   "execution_count": 7,
   "id": "28120134",
   "metadata": {
    "execution": {
     "iopub.execute_input": "2025-04-30T09:35:12.954823Z",
     "iopub.status.busy": "2025-04-30T09:35:12.954314Z",
     "iopub.status.idle": "2025-04-30T09:35:13.060994Z",
     "shell.execute_reply": "2025-04-30T09:35:13.060142Z"
    },
    "papermill": {
     "duration": 0.122319,
     "end_time": "2025-04-30T09:35:13.062672",
     "exception": false,
     "start_time": "2025-04-30T09:35:12.940353",
     "status": "completed"
    },
    "tags": []
   },
   "outputs": [
    {
     "data": {
      "text/plain": [
       "MRI_Track_Age_at_Scan               360\n",
       "Barratt_Barratt_P2_Occ              222\n",
       "Barratt_Barratt_P2_Edu              198\n",
       "PreInt_Demos_Fam_Child_Race          54\n",
       "PreInt_Demos_Fam_Child_Ethnicity     43\n",
       "Barratt_Barratt_P1_Occ               31\n",
       "ColorVision_CV_Score                 23\n",
       "Barratt_Barratt_P1_Edu               15\n",
       "EHQ_EHQ_Total                        13\n",
       "APQ_P_APQ_P_PM                       12\n",
       "APQ_P_APQ_P_PP                       12\n",
       "APQ_P_APQ_P_OPD                      12\n",
       "APQ_P_APQ_P_INV                      12\n",
       "APQ_P_APQ_P_ID                       12\n",
       "APQ_P_APQ_P_CP                       12\n",
       "SDQ_SDQ_Difficulties_Total            9\n",
       "SDQ_SDQ_Emotional_Problems            9\n",
       "SDQ_SDQ_Externalizing                 9\n",
       "SDQ_SDQ_Generating_Impact             9\n",
       "SDQ_SDQ_Hyperactivity                 9\n",
       "SDQ_SDQ_Internalizing                 9\n",
       "SDQ_SDQ_Peer_Problems                 9\n",
       "SDQ_SDQ_Prosocial                     9\n",
       "SDQ_SDQ_Conduct_Problems              9\n",
       "MRI_Track_Scan_Location               3\n",
       "dtype: int64"
      ]
     },
     "execution_count": 7,
     "metadata": {},
     "output_type": "execute_result"
    }
   ],
   "source": [
    "# Count missing values\n",
    "missing = wd.isnull().sum()\n",
    "missing[missing > 0].sort_values(ascending=False)"
   ]
  },
  {
   "cell_type": "markdown",
   "id": "72bcf267",
   "metadata": {
    "papermill": {
     "duration": 0.011209,
     "end_time": "2025-04-30T09:35:13.085037",
     "exception": false,
     "start_time": "2025-04-30T09:35:13.073828",
     "status": "completed"
    },
    "tags": []
   },
   "source": [
    "# 4: Exploratory Data Analysis (EDA)"
   ]
  },
  {
   "cell_type": "markdown",
   "id": "f65f0dfd",
   "metadata": {
    "papermill": {
     "duration": 0.010936,
     "end_time": "2025-04-30T09:35:13.107194",
     "exception": false,
     "start_time": "2025-04-30T09:35:13.096258",
     "status": "completed"
    },
    "tags": []
   },
   "source": [
    "4.1: Plot ADHD Diagnosis Distribution"
   ]
  },
  {
   "cell_type": "code",
   "execution_count": 8,
   "id": "9b852a76",
   "metadata": {
    "execution": {
     "iopub.execute_input": "2025-04-30T09:35:13.130700Z",
     "iopub.status.busy": "2025-04-30T09:35:13.130356Z",
     "iopub.status.idle": "2025-04-30T09:35:13.402233Z",
     "shell.execute_reply": "2025-04-30T09:35:13.401326Z"
    },
    "papermill": {
     "duration": 0.285316,
     "end_time": "2025-04-30T09:35:13.403607",
     "exception": false,
     "start_time": "2025-04-30T09:35:13.118291",
     "status": "completed"
    },
    "tags": []
   },
   "outputs": [
    {
     "data": {
      "image/png": "[encoded data removed]",
      "text/plain": [
       "<Figure size 600x400 with 1 Axes>"
      ]
     },
     "metadata": {},
     "output_type": "display_data"
    }
   ],
   "source": [
    "# 📦 Imports (in case not already imported)\n",
    "import matplotlib.pyplot as plt\n",
    "import seaborn as sns\n",
    "\n",
    "# 🎯 Plotting ADHD Outcome\n",
    "plt.figure(figsize=(6, 4))\n",
    "sns.countplot(data=wd, x='ADHD_Outcome')\n",
    "plt.title('Distribution of ADHD Diagnosis')\n",
    "plt.xlabel('ADHD_Outcome (0 = No ADHD, 1 = ADHD)')\n",
    "plt.ylabel('Count')\n",
    "plt.tight_layout()\n",
    "plt.show()\n"
   ]
  },
  {
   "cell_type": "markdown",
   "id": "d972b899",
   "metadata": {
    "papermill": {
     "duration": 0.011859,
     "end_time": "2025-04-30T09:35:13.491582",
     "exception": false,
     "start_time": "2025-04-30T09:35:13.479723",
     "status": "completed"
    },
    "tags": []
   },
   "source": [
    "4.2: Plot Sex Distribution"
   ]
  },
  {
   "cell_type": "code",
   "execution_count": 9,
   "id": "0c419277",
   "metadata": {
    "execution": {
     "iopub.execute_input": "2025-04-30T09:35:13.518791Z",
     "iopub.status.busy": "2025-04-30T09:35:13.518498Z",
     "iopub.status.idle": "2025-04-30T09:35:13.701515Z",
     "shell.execute_reply": "2025-04-30T09:35:13.700491Z"
    },
    "papermill": {
     "duration": 0.198078,
     "end_time": "2025-04-30T09:35:13.702998",
     "exception": false,
     "start_time": "2025-04-30T09:35:13.504920",
     "status": "completed"
    },
    "tags": []
   },
   "outputs": [
    {
     "data": {
      "image/png": "[encoded data removed]",
      "text/plain": [
       "<Figure size 600x400 with 1 Axes>"
      ]
     },
     "metadata": {},
     "output_type": "display_data"
    }
   ],
   "source": [
    "# ⚥ Plotting Sex Distribution\n",
    "plt.figure(figsize=(6, 4))\n",
    "sns.countplot(data=wd, x='Sex_F')\n",
    "plt.title('Distribution of Participant Sex')\n",
    "plt.xlabel('Sex_F (0 = Male, 1 = Female)')\n",
    "plt.ylabel('Count')\n",
    "plt.tight_layout()\n",
    "plt.show()\n"
   ]
  },
  {
   "cell_type": "markdown",
   "id": "7ce14888",
   "metadata": {
    "papermill": {
     "duration": 0.013155,
     "end_time": "2025-04-30T09:35:13.729999",
     "exception": false,
     "start_time": "2025-04-30T09:35:13.716844",
     "status": "completed"
    },
    "tags": []
   },
   "source": [
    "4.3: ADHD Diagnosis by Sex (Crosstab)"
   ]
  },
  {
   "cell_type": "code",
   "execution_count": 10,
   "id": "bbae292f",
   "metadata": {
    "execution": {
     "iopub.execute_input": "2025-04-30T09:35:13.758063Z",
     "iopub.status.busy": "2025-04-30T09:35:13.757751Z",
     "iopub.status.idle": "2025-04-30T09:35:13.964329Z",
     "shell.execute_reply": "2025-04-30T09:35:13.963322Z"
    },
    "papermill": {
     "duration": 0.223044,
     "end_time": "2025-04-30T09:35:13.965859",
     "exception": false,
     "start_time": "2025-04-30T09:35:13.742815",
     "status": "completed"
    },
    "tags": []
   },
   "outputs": [
    {
     "data": {
      "image/png": "[encoded data removed]",
      "text/plain": [
       "<Figure size 600x400 with 1 Axes>"
      ]
     },
     "metadata": {},
     "output_type": "display_data"
    }
   ],
   "source": [
    "# 🧩 ADHD by Sex\n",
    "plt.figure(figsize=(6, 4))\n",
    "sns.countplot(data=wd, x='Sex_F', hue='ADHD_Outcome')\n",
    "plt.title('ADHD Diagnosis by Sex')\n",
    "plt.xlabel('Sex_F (0 = Male, 1 = Female)')\n",
    "plt.ylabel('Count')\n",
    "plt.legend(title='ADHD_Outcome', labels=['No ADHD (0)', 'ADHD (1)'])\n",
    "plt.tight_layout()\n",
    "plt.show()\n"
   ]
  },
  {
   "cell_type": "markdown",
   "id": "3657ea7a",
   "metadata": {
    "papermill": {
     "duration": 0.013289,
     "end_time": "2025-04-30T09:35:13.992770",
     "exception": false,
     "start_time": "2025-04-30T09:35:13.979481",
     "status": "completed"
    },
    "tags": []
   },
   "source": [
    " 4.4: Age Distribution by ADHD Diagnosis"
   ]
  },
  {
   "cell_type": "code",
   "execution_count": 11,
   "id": "47a2313d",
   "metadata": {
    "execution": {
     "iopub.execute_input": "2025-04-30T09:35:14.020983Z",
     "iopub.status.busy": "2025-04-30T09:35:14.020690Z",
     "iopub.status.idle": "2025-04-30T09:35:14.346320Z",
     "shell.execute_reply": "2025-04-30T09:35:14.345262Z"
    },
    "papermill": {
     "duration": 0.341654,
     "end_time": "2025-04-30T09:35:14.347823",
     "exception": false,
     "start_time": "2025-04-30T09:35:14.006169",
     "status": "completed"
    },
    "tags": []
   },
   "outputs": [
    {
     "data": {
      "image/png": "[encoded data removed]",
      "text/plain": [
       "<Figure size 800x500 with 1 Axes>"
      ]
     },
     "metadata": {},
     "output_type": "display_data"
    }
   ],
   "source": [
    "plt.figure(figsize=(8, 5))\n",
    "sns.boxplot(data=wd, x='ADHD_Outcome', y='MRI_Track_Age_at_Scan')\n",
    "plt.title('Age Distribution by ADHD Diagnosis')\n",
    "plt.xlabel('ADHD_Outcome')\n",
    "plt.ylabel('Age at Scan')\n",
    "plt.tight_layout()\n",
    "plt.show()\n"
   ]
  },
  {
   "cell_type": "markdown",
   "id": "056a7d80",
   "metadata": {
    "papermill": {
     "duration": 0.013875,
     "end_time": "2025-04-30T09:35:14.376066",
     "exception": false,
     "start_time": "2025-04-30T09:35:14.362191",
     "status": "completed"
    },
    "tags": []
   },
   "source": [
    "4.5: Correlation Heatmap (Numeric Metadata Only)"
   ]
  },
  {
   "cell_type": "code",
   "execution_count": 12,
   "id": "25d2fb8d",
   "metadata": {
    "execution": {
     "iopub.execute_input": "2025-04-30T09:35:14.405397Z",
     "iopub.status.busy": "2025-04-30T09:35:14.405112Z",
     "iopub.status.idle": "2025-04-30T09:35:15.580158Z",
     "shell.execute_reply": "2025-04-30T09:35:15.579316Z"
    },
    "papermill": {
     "duration": 1.195027,
     "end_time": "2025-04-30T09:35:15.585200",
     "exception": false,
     "start_time": "2025-04-30T09:35:14.390173",
     "status": "completed"
    },
    "tags": []
   },
   "outputs": [
    {
     "data": {
      "image/png": "[encoded data removed]",
      "text/plain": [
       "<Figure size 1600x1000 with 2 Axes>"
      ]
     },
     "metadata": {},
     "output_type": "display_data"
    }
   ],
   "source": [
    "# Filter numeric metadata columns with relatively low dimensions\n",
    "meta_numeric = wd.select_dtypes(include=['float64', 'int64']).copy()\n",
    "\n",
    "# Drop fMRI features (those with names like '0throw_1thcolumn') to reduce clutter\n",
    "meta_numeric = meta_numeric.loc[:, ~meta_numeric.columns.str.contains('throw')]\n",
    "\n",
    "# Drop participant_id\n",
    "meta_numeric = meta_numeric.drop(columns=['participant_id'], errors='ignore')\n",
    "\n",
    "# Plot correlation\n",
    "plt.figure(figsize=(16, 10))\n",
    "sns.heatmap(meta_numeric.corr(), cmap='coolwarm', annot=False)\n",
    "plt.title('Correlation Heatmap (Metadata Only)')\n",
    "plt.tight_layout()\n",
    "plt.show()\n"
   ]
  },
  {
   "cell_type": "markdown",
   "id": "fd888179",
   "metadata": {
    "papermill": {
     "duration": 0.018864,
     "end_time": "2025-04-30T09:35:15.623265",
     "exception": false,
     "start_time": "2025-04-30T09:35:15.604401",
     "status": "completed"
    },
    "tags": []
   },
   "source": [
    " 4.6: Missing Values Heatmap (Optional)"
   ]
  },
  {
   "cell_type": "code",
   "execution_count": 13,
   "id": "b6106150",
   "metadata": {
    "execution": {
     "iopub.execute_input": "2025-04-30T09:35:15.663060Z",
     "iopub.status.busy": "2025-04-30T09:35:15.662301Z",
     "iopub.status.idle": "2025-04-30T09:35:35.490472Z",
     "shell.execute_reply": "2025-04-30T09:35:35.489499Z"
    },
    "papermill": {
     "duration": 19.849853,
     "end_time": "2025-04-30T09:35:35.492088",
     "exception": false,
     "start_time": "2025-04-30T09:35:15.642235",
     "status": "completed"
    },
    "tags": []
   },
   "outputs": [
    {
     "data": {
      "image/png": "[encoded data removed]",
      "text/plain": [
       "<Figure size 2500x1000 with 2 Axes>"
      ]
     },
     "metadata": {},
     "output_type": "display_data"
    }
   ],
   "source": [
    "import missingno as msno\n",
    "\n",
    "# Show where missing values are\n",
    "msno.matrix(wd)\n",
    "plt.title('Missing Value Matrix')\n",
    "plt.show()\n"
   ]
  },
  {
   "cell_type": "markdown",
   "id": "f46a1525",
   "metadata": {
    "papermill": {
     "duration": 0.020054,
     "end_time": "2025-04-30T09:35:35.532406",
     "exception": false,
     "start_time": "2025-04-30T09:35:35.512352",
     "status": "completed"
    },
    "tags": []
   },
   "source": [
    "# 5: Data Preprocessing, Cleaning & Feature Engineering"
   ]
  },
  {
   "cell_type": "markdown",
   "id": "ae3695c0",
   "metadata": {
    "papermill": {
     "duration": 0.019748,
     "end_time": "2025-04-30T09:35:35.571847",
     "exception": false,
     "start_time": "2025-04-30T09:35:35.552099",
     "status": "completed"
    },
    "tags": []
   },
   "source": [
    "5.1: Identify Categorical Metadata Columns"
   ]
  },
  {
   "cell_type": "code",
   "execution_count": 14,
   "id": "c9245079",
   "metadata": {
    "execution": {
     "iopub.execute_input": "2025-04-30T09:35:35.612952Z",
     "iopub.status.busy": "2025-04-30T09:35:35.612637Z",
     "iopub.status.idle": "2025-04-30T09:35:35.616830Z",
     "shell.execute_reply": "2025-04-30T09:35:35.616134Z"
    },
    "papermill": {
     "duration": 0.026274,
     "end_time": "2025-04-30T09:35:35.618120",
     "exception": false,
     "start_time": "2025-04-30T09:35:35.591846",
     "status": "completed"
    },
    "tags": []
   },
   "outputs": [],
   "source": [
    "# Manually selected categorical columns (based on previous exploration)\n",
    "manual_cat_cols = [\n",
    "    'PreInt_Demos_Fam_Child_Race',\n",
    "    'PreInt_Demos_Fam_Child_Ethnicity',\n",
    "    'Barratt_Barratt_P1_Edu',\n",
    "    'Barratt_Barratt_P2_Edu',\n",
    "    'Barratt_Barratt_P1_Occ',\n",
    "    'Barratt_Barratt_P2_Occ',\n",
    "    'MRI_Track_Scan_Location'\n",
    "]\n"
   ]
  },
  {
   "cell_type": "markdown",
   "id": "93b4224e",
   "metadata": {
    "papermill": {
     "duration": 0.019216,
     "end_time": "2025-04-30T09:35:35.657035",
     "exception": false,
     "start_time": "2025-04-30T09:35:35.637819",
     "status": "completed"
    },
    "tags": []
   },
   "source": [
    "5.2: One-Hot Encode These Categorical Columns"
   ]
  },
  {
   "cell_type": "code",
   "execution_count": 15,
   "id": "da5a2cd6",
   "metadata": {
    "execution": {
     "iopub.execute_input": "2025-04-30T09:35:35.698165Z",
     "iopub.status.busy": "2025-04-30T09:35:35.697864Z",
     "iopub.status.idle": "2025-04-30T09:35:35.980530Z",
     "shell.execute_reply": "2025-04-30T09:35:35.979211Z"
    },
    "papermill": {
     "duration": 0.305025,
     "end_time": "2025-04-30T09:35:35.982042",
     "exception": false,
     "start_time": "2025-04-30T09:35:35.677017",
     "status": "completed"
    },
    "tags": []
   },
   "outputs": [
    {
     "name": "stdout",
     "output_type": "stream",
     "text": [
      "✅ One-hot encoding complete. New shape: (1213, 19968)\n"
     ]
    }
   ],
   "source": [
    "# One-hot encode selected columns\n",
    "wd_encoded = pd.get_dummies(wd, columns=manual_cat_cols, drop_first=True)\n",
    "print(\"✅ One-hot encoding complete. New shape:\", wd_encoded.shape)\n"
   ]
  },
  {
   "cell_type": "markdown",
   "id": "8e1da42f",
   "metadata": {
    "papermill": {
     "duration": 0.01987,
     "end_time": "2025-04-30T09:35:36.022888",
     "exception": false,
     "start_time": "2025-04-30T09:35:36.003018",
     "status": "completed"
    },
    "tags": []
   },
   "source": [
    "5.3: Select and Scale Numerical Metadata Features"
   ]
  },
  {
   "cell_type": "code",
   "execution_count": 16,
   "id": "9608c6f4",
   "metadata": {
    "execution": {
     "iopub.execute_input": "2025-04-30T09:35:36.063867Z",
     "iopub.status.busy": "2025-04-30T09:35:36.063564Z",
     "iopub.status.idle": "2025-04-30T09:35:36.068100Z",
     "shell.execute_reply": "2025-04-30T09:35:36.067260Z"
    },
    "papermill": {
     "duration": 0.026743,
     "end_time": "2025-04-30T09:35:36.069465",
     "exception": false,
     "start_time": "2025-04-30T09:35:36.042722",
     "status": "completed"
    },
    "tags": []
   },
   "outputs": [],
   "source": [
    "# Manually selected numerical metadata columns\n",
    "manual_numeric_cols = [\n",
    "    'MRI_Track_Age_at_Scan',\n",
    "    'ColorVision_CV_Score',\n",
    "    'EHQ_EHQ_Total',\n",
    "    'APQ_P_APQ_P_PM',\n",
    "    'APQ_P_APQ_P_PP',\n",
    "    'APQ_P_APQ_P_OPD',\n",
    "    'APQ_P_APQ_P_INV',\n",
    "    'APQ_P_APQ_P_ID',\n",
    "    'APQ_P_APQ_P_CP',\n",
    "    'SDQ_SDQ_Difficulties_Total',\n",
    "    'SDQ_SDQ_Emotional_Problems',\n",
    "    'SDQ_SDQ_Externalizing',\n",
    "    'SDQ_SDQ_Generating_Impact',\n",
    "    'SDQ_SDQ_Hyperactivity',\n",
    "    'SDQ_SDQ_Internalizing',\n",
    "    'SDQ_SDQ_Peer_Problems',\n",
    "    'SDQ_SDQ_Prosocial',\n",
    "    'SDQ_SDQ_Conduct_Problems'\n",
    "]\n"
   ]
  },
  {
   "cell_type": "code",
   "execution_count": 17,
   "id": "bdefb870",
   "metadata": {
    "execution": {
     "iopub.execute_input": "2025-04-30T09:35:36.110269Z",
     "iopub.status.busy": "2025-04-30T09:35:36.109995Z",
     "iopub.status.idle": "2025-04-30T09:35:37.525076Z",
     "shell.execute_reply": "2025-04-30T09:35:37.524066Z"
    },
    "papermill": {
     "duration": 1.437195,
     "end_time": "2025-04-30T09:35:37.526423",
     "exception": false,
     "start_time": "2025-04-30T09:35:36.089228",
     "status": "completed"
    },
    "tags": []
   },
   "outputs": [
    {
     "name": "stdout",
     "output_type": "stream",
     "text": [
      "✅ Numerical metadata scaling complete.\n"
     ]
    }
   ],
   "source": [
    "from sklearn.preprocessing import StandardScaler\n",
    "\n",
    "# Create a copy to preserve original\n",
    "wd_scaled = wd_encoded.copy()\n",
    "\n",
    "# Apply standard scaling\n",
    "scaler = StandardScaler()\n",
    "wd_scaled[manual_numeric_cols] = scaler.fit_transform(wd_scaled[manual_numeric_cols])\n",
    "\n",
    "print(\"✅ Numerical metadata scaling complete.\")\n"
   ]
  },
  {
   "cell_type": "markdown",
   "id": "2cc91e82",
   "metadata": {
    "papermill": {
     "duration": 0.01965,
     "end_time": "2025-04-30T09:35:37.566838",
     "exception": false,
     "start_time": "2025-04-30T09:35:37.547188",
     "status": "completed"
    },
    "tags": []
   },
   "source": [
    "5.4: Fix Missing Values"
   ]
  },
  {
   "cell_type": "code",
   "execution_count": 18,
   "id": "645e7f7d",
   "metadata": {
    "execution": {
     "iopub.execute_input": "2025-04-30T09:35:37.608262Z",
     "iopub.status.busy": "2025-04-30T09:35:37.607935Z",
     "iopub.status.idle": "2025-04-30T09:35:47.698943Z",
     "shell.execute_reply": "2025-04-30T09:35:47.697899Z"
    },
    "papermill": {
     "duration": 10.113501,
     "end_time": "2025-04-30T09:35:47.700373",
     "exception": false,
     "start_time": "2025-04-30T09:35:37.586872",
     "status": "completed"
    },
    "tags": []
   },
   "outputs": [
    {
     "name": "stdout",
     "output_type": "stream",
     "text": [
      "✅ Missing values filled with column means.\n"
     ]
    }
   ],
   "source": [
    "# We'll work with the scaled DataFrame\n",
    "X_final = wd_scaled.copy()\n",
    "\n",
    "# Fill all NaNs with column-wise means\n",
    "X_final = X_final.fillna(X_final.mean(numeric_only=True))\n",
    "\n",
    "print(\"✅ Missing values filled with column means.\")\n"
   ]
  },
  {
   "cell_type": "markdown",
   "id": "23d34335",
   "metadata": {
    "papermill": {
     "duration": 0.019718,
     "end_time": "2025-04-30T09:35:47.740011",
     "exception": false,
     "start_time": "2025-04-30T09:35:47.720293",
     "status": "completed"
    },
    "tags": []
   },
   "source": [
    "# 6: Dimensionality Reduction – PCA on fMRI Features"
   ]
  },
  {
   "cell_type": "markdown",
   "id": "8507d289",
   "metadata": {
    "papermill": {
     "duration": 0.019767,
     "end_time": "2025-04-30T09:35:47.779962",
     "exception": false,
     "start_time": "2025-04-30T09:35:47.760195",
     "status": "completed"
    },
    "tags": []
   },
   "source": [
    "6.1: Select fMRI Feature Columns"
   ]
  },
  {
   "cell_type": "code",
   "execution_count": 19,
   "id": "df742cd4",
   "metadata": {
    "execution": {
     "iopub.execute_input": "2025-04-30T09:35:47.821265Z",
     "iopub.status.busy": "2025-04-30T09:35:47.820952Z",
     "iopub.status.idle": "2025-04-30T09:35:47.915199Z",
     "shell.execute_reply": "2025-04-30T09:35:47.914260Z"
    },
    "papermill": {
     "duration": 0.116991,
     "end_time": "2025-04-30T09:35:47.916612",
     "exception": false,
     "start_time": "2025-04-30T09:35:47.799621",
     "status": "completed"
    },
    "tags": []
   },
   "outputs": [
    {
     "name": "stdout",
     "output_type": "stream",
     "text": [
      "fMRI data shape: (1213, 19902)\n"
     ]
    }
   ],
   "source": [
    "# Identify metadata/target columns\n",
    "meta_target_cols = [\n",
    "    'participant_id', 'ADHD_Outcome', 'Sex_F'\n",
    "] + manual_numeric_cols + list(wd_encoded.columns.difference(wd.columns))  # One-hot encoded cols\n",
    "\n",
    "# fMRI = all columns not in meta_target_cols\n",
    "fmri_cols = [col for col in wd_encoded.columns if col not in meta_target_cols]\n",
    "\n",
    "# Extract fMRI features\n",
    "fmri_data = wd_encoded[fmri_cols]\n",
    "\n",
    "print(\"fMRI data shape:\", fmri_data.shape)\n"
   ]
  },
  {
   "cell_type": "markdown",
   "id": "b65f43d0",
   "metadata": {
    "papermill": {
     "duration": 0.020997,
     "end_time": "2025-04-30T09:35:47.958940",
     "exception": false,
     "start_time": "2025-04-30T09:35:47.937943",
     "status": "completed"
    },
    "tags": []
   },
   "source": [
    "6.2: Apply PCA"
   ]
  },
  {
   "cell_type": "code",
   "execution_count": 20,
   "id": "5a5fdd9d",
   "metadata": {
    "execution": {
     "iopub.execute_input": "2025-04-30T09:35:48.003338Z",
     "iopub.status.busy": "2025-04-30T09:35:48.002341Z",
     "iopub.status.idle": "2025-04-30T09:35:56.596695Z",
     "shell.execute_reply": "2025-04-30T09:35:56.595782Z"
    },
    "papermill": {
     "duration": 8.618147,
     "end_time": "2025-04-30T09:35:56.598422",
     "exception": false,
     "start_time": "2025-04-30T09:35:47.980275",
     "status": "completed"
    },
    "tags": []
   },
   "outputs": [
    {
     "name": "stdout",
     "output_type": "stream",
     "text": [
      "✅ Reduced fMRI shape: (1213, 902)\n"
     ]
    },
    {
     "data": {
      "image/png": "[encoded data removed]",
      "text/plain": [
       "<Figure size 1000x400 with 1 Axes>"
      ]
     },
     "metadata": {},
     "output_type": "display_data"
    }
   ],
   "source": [
    "from sklearn.decomposition import PCA\n",
    "import matplotlib.pyplot as plt\n",
    "import numpy as np\n",
    "\n",
    "# PCA: retain 95% of variance\n",
    "pca = PCA(n_components=0.95, random_state=42)\n",
    "fmri_pca = pca.fit_transform(fmri_data)\n",
    "\n",
    "# Show result\n",
    "print(\"✅ Reduced fMRI shape:\", fmri_pca.shape)\n",
    "\n",
    "# Plot explained variance\n",
    "plt.figure(figsize=(10, 4))\n",
    "plt.plot(np.cumsum(pca.explained_variance_ratio_), marker='o')\n",
    "plt.xlabel('Number of components')\n",
    "plt.ylabel('Cumulative explained variance')\n",
    "plt.title('Explained Variance by PCA Components')\n",
    "plt.grid()\n",
    "plt.tight_layout()\n",
    "plt.show()\n"
   ]
  },
  {
   "cell_type": "markdown",
   "id": "f6ef291b",
   "metadata": {
    "papermill": {
     "duration": 0.020791,
     "end_time": "2025-04-30T09:35:56.641083",
     "exception": false,
     "start_time": "2025-04-30T09:35:56.620292",
     "status": "completed"
    },
    "tags": []
   },
   "source": [
    "# 7: Prepare Final Dataset & Train Baseline Model"
   ]
  },
  {
   "cell_type": "markdown",
   "id": "9deca32a",
   "metadata": {
    "papermill": {
     "duration": 0.021244,
     "end_time": "2025-04-30T09:35:56.682982",
     "exception": false,
     "start_time": "2025-04-30T09:35:56.661738",
     "status": "completed"
    },
    "tags": []
   },
   "source": [
    "7.1: Combine PCA Components with Metadata"
   ]
  },
  {
   "cell_type": "code",
   "execution_count": 21,
   "id": "73159ae7",
   "metadata": {
    "execution": {
     "iopub.execute_input": "2025-04-30T09:35:56.726026Z",
     "iopub.status.busy": "2025-04-30T09:35:56.725733Z",
     "iopub.status.idle": "2025-04-30T09:36:01.719184Z",
     "shell.execute_reply": "2025-04-30T09:36:01.718266Z"
    },
    "papermill": {
     "duration": 5.016873,
     "end_time": "2025-04-30T09:36:01.720708",
     "exception": false,
     "start_time": "2025-04-30T09:35:56.703835",
     "status": "completed"
    },
    "tags": []
   },
   "outputs": [
    {
     "name": "stdout",
     "output_type": "stream",
     "text": [
      "✅ Final shape for training: (1213, 965)\n",
      "✅ All missing values handled in X_final.\n"
     ]
    }
   ],
   "source": [
    "# Convert PCA output into DataFrame with clear names\n",
    "pca_df = pd.DataFrame(fmri_pca, columns=[f'pca_{i+1}' for i in range(fmri_pca.shape[1])])\n",
    "pca_df.index = wd_encoded.index  # align index\n",
    "\n",
    "# Select encoded metadata columns\n",
    "metadata_cols = [col for col in wd_scaled.columns \n",
    "                 if col not in ['participant_id', 'ADHD_Outcome', 'Sex_F'] + fmri_cols]\n",
    "\n",
    "meta_data = wd_scaled[metadata_cols]\n",
    "\n",
    "# Combine metadata and PCA components\n",
    "X_final = pd.concat([meta_data.reset_index(drop=True), pca_df.reset_index(drop=True)], axis=1)\n",
    "y_final = wd_scaled[['ADHD_Outcome', 'Sex_F']]\n",
    "\n",
    "print(\"✅ Final shape for training:\", X_final.shape)\n",
    "\n",
    "# This step to handle missing values\n",
    "X_final = X_final.fillna(X_final.mean())\n",
    "print(\"✅ All missing values handled in X_final.\")\n"
   ]
  },
  {
   "cell_type": "markdown",
   "id": "9d09fac5",
   "metadata": {
    "papermill": {
     "duration": 0.022126,
     "end_time": "2025-04-30T09:36:01.764374",
     "exception": false,
     "start_time": "2025-04-30T09:36:01.742248",
     "status": "completed"
    },
    "tags": []
   },
   "source": [
    "7.2: Train-Test Split"
   ]
  },
  {
   "cell_type": "code",
   "execution_count": 22,
   "id": "6f610f5d",
   "metadata": {
    "execution": {
     "iopub.execute_input": "2025-04-30T09:36:01.808097Z",
     "iopub.status.busy": "2025-04-30T09:36:01.807787Z",
     "iopub.status.idle": "2025-04-30T09:36:01.843631Z",
     "shell.execute_reply": "2025-04-30T09:36:01.842611Z"
    },
    "papermill": {
     "duration": 0.059639,
     "end_time": "2025-04-30T09:36:01.845210",
     "exception": false,
     "start_time": "2025-04-30T09:36:01.785571",
     "status": "completed"
    },
    "tags": []
   },
   "outputs": [
    {
     "name": "stdout",
     "output_type": "stream",
     "text": [
      "✅ Train shape: (970, 965)\n",
      "✅ Validation shape: (243, 965)\n"
     ]
    }
   ],
   "source": [
    "from sklearn.model_selection import train_test_split\n",
    "\n",
    "# Stratify by ADHD outcome to preserve class balance\n",
    "X_train, X_val, y_train, y_val = train_test_split(\n",
    "    X_final, y_final, test_size=0.2, random_state=42, stratify=y_final['ADHD_Outcome']\n",
    ")\n",
    "\n",
    "print(\"✅ Train shape:\", X_train.shape)\n",
    "print(\"✅ Validation shape:\", X_val.shape)\n"
   ]
  },
  {
   "cell_type": "markdown",
   "id": "ac680538",
   "metadata": {
    "papermill": {
     "duration": 0.020882,
     "end_time": "2025-04-30T09:36:01.888253",
     "exception": false,
     "start_time": "2025-04-30T09:36:01.867371",
     "status": "completed"
    },
    "tags": []
   },
   "source": [
    "7.3: HistGradientBoostingClassifier"
   ]
  },
  {
   "cell_type": "code",
   "execution_count": 23,
   "id": "852c4152",
   "metadata": {
    "execution": {
     "iopub.execute_input": "2025-04-30T09:36:01.933312Z",
     "iopub.status.busy": "2025-04-30T09:36:01.933018Z",
     "iopub.status.idle": "2025-04-30T09:36:16.443553Z",
     "shell.execute_reply": "2025-04-30T09:36:16.442846Z"
    },
    "papermill": {
     "duration": 14.535923,
     "end_time": "2025-04-30T09:36:16.445421",
     "exception": false,
     "start_time": "2025-04-30T09:36:01.909498",
     "status": "completed"
    },
    "tags": []
   },
   "outputs": [
    {
     "name": "stderr",
     "output_type": "stream",
     "text": [
      "/usr/local/lib/python3.11/dist-packages/sklearn/experimental/enable_hist_gradient_boosting.py:16: UserWarning: Since version 1.0, it is not needed to import enable_hist_gradient_boosting anymore. HistGradientBoostingClassifier and HistGradientBoostingRegressor are now stable and can be normally imported from sklearn.ensemble.\n",
      "  warnings.warn(\n"
     ]
    }
   ],
   "source": [
    "from sklearn.experimental import enable_hist_gradient_boosting  # noqa\n",
    "from sklearn.ensemble import HistGradientBoostingClassifier\n",
    "from sklearn.multioutput import MultiOutputClassifier\n",
    "from sklearn.metrics import f1_score\n",
    "\n",
    "# New model\n",
    "hgb_model = HistGradientBoostingClassifier(random_state=42)\n",
    "\n",
    "# Wrap it for multi-output\n",
    "multi_model = MultiOutputClassifier(hgb_model)\n",
    "\n",
    "# Train\n",
    "multi_model.fit(X_train, y_train)\n",
    "\n",
    "# Predict\n",
    "y_pred = multi_model.predict(X_val)"
   ]
  },
  {
   "cell_type": "markdown",
   "id": "00cf60de",
   "metadata": {
    "papermill": {
     "duration": 0.022391,
     "end_time": "2025-04-30T09:36:16.490195",
     "exception": false,
     "start_time": "2025-04-30T09:36:16.467804",
     "status": "completed"
    },
    "tags": []
   },
   "source": [
    "7.4: Evaluate with F1 Scores"
   ]
  },
  {
   "cell_type": "code",
   "execution_count": 24,
   "id": "05e5fa06",
   "metadata": {
    "execution": {
     "iopub.execute_input": "2025-04-30T09:36:16.535501Z",
     "iopub.status.busy": "2025-04-30T09:36:16.535152Z",
     "iopub.status.idle": "2025-04-30T09:36:16.546580Z",
     "shell.execute_reply": "2025-04-30T09:36:16.545508Z"
    },
    "papermill": {
     "duration": 0.035732,
     "end_time": "2025-04-30T09:36:16.548153",
     "exception": false,
     "start_time": "2025-04-30T09:36:16.512421",
     "status": "completed"
    },
    "tags": []
   },
   "outputs": [
    {
     "name": "stdout",
     "output_type": "stream",
     "text": [
      "📊 ADHD F1 Score: 0.8636\n",
      "📊 Sex F1 Score:  0.1600\n",
      "🏁 Final Avg F1 Score: 0.5118\n"
     ]
    }
   ],
   "source": [
    "# Evaluate\n",
    "adhd_f1 = f1_score(y_val['ADHD_Outcome'], y_pred[:, 0])\n",
    "sex_f1 = f1_score(y_val['Sex_F'], y_pred[:, 1])\n",
    "avg_f1 = (adhd_f1 + sex_f1) / 2\n",
    "\n",
    "print(f\"📊 ADHD F1 Score: {adhd_f1:.4f}\")\n",
    "print(f\"📊 Sex F1 Score:  {sex_f1:.4f}\")\n",
    "print(f\"🏁 Final Avg F1 Score: {avg_f1:.4f}\")\n"
   ]
  },
  {
   "cell_type": "markdown",
   "id": "f352c5a4",
   "metadata": {
    "papermill": {
     "duration": 0.023407,
     "end_time": "2025-04-30T09:36:16.593979",
     "exception": false,
     "start_time": "2025-04-30T09:36:16.570572",
     "status": "completed"
    },
    "tags": []
   },
   "source": [
    "# 8: Hyperparameter Tuning"
   ]
  },
  {
   "cell_type": "markdown",
   "id": "cf69d569",
   "metadata": {
    "papermill": {
     "duration": 0.021957,
     "end_time": "2025-04-30T09:36:16.637851",
     "exception": false,
     "start_time": "2025-04-30T09:36:16.615894",
     "status": "completed"
    },
    "tags": []
   },
   "source": [
    "8.1: Baseline Model "
   ]
  },
  {
   "cell_type": "code",
   "execution_count": 25,
   "id": "96c7011d",
   "metadata": {
    "execution": {
     "iopub.execute_input": "2025-04-30T09:36:16.683778Z",
     "iopub.status.busy": "2025-04-30T09:36:16.682826Z",
     "iopub.status.idle": "2025-04-30T09:36:29.415263Z",
     "shell.execute_reply": "2025-04-30T09:36:29.414421Z"
    },
    "papermill": {
     "duration": 12.756923,
     "end_time": "2025-04-30T09:36:29.416802",
     "exception": false,
     "start_time": "2025-04-30T09:36:16.659879",
     "status": "completed"
    },
    "tags": []
   },
   "outputs": [
    {
     "name": "stdout",
     "output_type": "stream",
     "text": [
      "📊 ADHD F1: 0.8636, Sex F1: 0.1600, Avg: 0.5118\n"
     ]
    }
   ],
   "source": [
    "from sklearn.experimental import enable_hist_gradient_boosting\n",
    "from sklearn.ensemble import HistGradientBoostingClassifier\n",
    "from sklearn.multioutput import MultiOutputClassifier\n",
    "\n",
    "# Base HistGBM Model (same as before)\n",
    "base_hist = HistGradientBoostingClassifier(random_state=42)\n",
    "\n",
    "multi_hist = MultiOutputClassifier(base_hist)\n",
    "multi_hist.fit(X_train, y_train)\n",
    "\n",
    "# Predict and Evaluate\n",
    "y_pred_hist = multi_hist.predict(X_val)\n",
    "\n",
    "f1_adhd_hist = f1_score(y_val['ADHD_Outcome'], y_pred_hist[:, 0])\n",
    "f1_sex_hist = f1_score(y_val['Sex_F'], y_pred_hist[:, 1])\n",
    "\n",
    "print(f\"📊 ADHD F1: {f1_adhd_hist:.4f}, Sex F1: {f1_sex_hist:.4f}, Avg: {(f1_adhd_hist + f1_sex_hist)/2:.4f}\")\n"
   ]
  },
  {
   "cell_type": "markdown",
   "id": "2894caea",
   "metadata": {
    "papermill": {
     "duration": 0.021289,
     "end_time": "2025-04-30T09:36:29.460093",
     "exception": false,
     "start_time": "2025-04-30T09:36:29.438804",
     "status": "completed"
    },
    "tags": []
   },
   "source": [
    "8.2: Tune Learning Rate + Estimators"
   ]
  },
  {
   "cell_type": "code",
   "execution_count": 26,
   "id": "73aedc2d",
   "metadata": {
    "execution": {
     "iopub.execute_input": "2025-04-30T09:36:29.504310Z",
     "iopub.status.busy": "2025-04-30T09:36:29.503977Z",
     "iopub.status.idle": "2025-04-30T09:45:43.080815Z",
     "shell.execute_reply": "2025-04-30T09:45:43.079517Z"
    },
    "papermill": {
     "duration": 553.622084,
     "end_time": "2025-04-30T09:45:43.103615",
     "exception": false,
     "start_time": "2025-04-30T09:36:29.481531",
     "status": "completed"
    },
    "tags": []
   },
   "outputs": [
    {
     "name": "stdout",
     "output_type": "stream",
     "text": [
      "Fitting 3 folds for each of 9 candidates, totalling 27 fits\n",
      "✅ Best params: {'estimator__learning_rate': 0.1, 'estimator__max_iter': 300}\n",
      "✅ Best Score: 0.7059975111902688\n"
     ]
    }
   ],
   "source": [
    "from sklearn.model_selection import GridSearchCV\n",
    "\n",
    "# Grid Search\n",
    "param_grid = {\n",
    "    'estimator__learning_rate': [0.1, 0.05, 0.01],\n",
    "    'estimator__max_iter': [100, 300, 500]\n",
    "}\n",
    "\n",
    "grid_search = GridSearchCV(\n",
    "    MultiOutputClassifier(HistGradientBoostingClassifier(random_state=42)),\n",
    "    param_grid,\n",
    "    scoring='f1_micro',\n",
    "    cv=3,\n",
    "    verbose=3,\n",
    "    n_jobs=-1\n",
    ")\n",
    "\n",
    "grid_search.fit(X_train, y_train)\n",
    "\n",
    "print(\"✅ Best params:\", grid_search.best_params_)\n",
    "print(\"✅ Best Score:\", grid_search.best_score_)\n"
   ]
  },
  {
   "cell_type": "markdown",
   "id": "9737842c",
   "metadata": {
    "papermill": {
     "duration": 0.021987,
     "end_time": "2025-04-30T09:45:43.147659",
     "exception": false,
     "start_time": "2025-04-30T09:45:43.125672",
     "status": "completed"
    },
    "tags": []
   },
   "source": [
    "8.3: Fix learning_rate + n_estimators → Tune max_depth and min_samples_leaf"
   ]
  },
  {
   "cell_type": "code",
   "execution_count": 27,
   "id": "ffeb9df1",
   "metadata": {
    "execution": {
     "iopub.execute_input": "2025-04-30T09:45:43.192321Z",
     "iopub.status.busy": "2025-04-30T09:45:43.191969Z",
     "iopub.status.idle": "2025-04-30T09:53:47.956272Z",
     "shell.execute_reply": "2025-04-30T09:53:47.955419Z"
    },
    "papermill": {
     "duration": 484.809328,
     "end_time": "2025-04-30T09:53:47.978423",
     "exception": false,
     "start_time": "2025-04-30T09:45:43.169095",
     "status": "completed"
    },
    "tags": []
   },
   "outputs": [
    {
     "name": "stdout",
     "output_type": "stream",
     "text": [
      "Fitting 3 folds for each of 12 candidates, totalling 36 fits\n",
      "✅ Best params: {'estimator__max_depth': 5, 'estimator__min_samples_leaf': 30}\n",
      "✅ Best Score: 0.7174090800159002\n"
     ]
    }
   ],
   "source": [
    "param_grid2 = {\n",
    "    'estimator__max_depth': [3, 5, 7, 10],\n",
    "    'estimator__min_samples_leaf': [10, 20, 30]\n",
    "}\n",
    "\n",
    "grid_search2 = GridSearchCV(\n",
    "    MultiOutputClassifier(\n",
    "        HistGradientBoostingClassifier(\n",
    "            random_state=42,\n",
    "            learning_rate=grid_search.best_params_['estimator__learning_rate'],\n",
    "            max_iter=grid_search.best_params_['estimator__max_iter']\n",
    "        )\n",
    "    ),\n",
    "    param_grid2,\n",
    "    scoring='f1_micro',\n",
    "    cv=3,\n",
    "    verbose=3,\n",
    "    n_jobs=-1\n",
    ")\n",
    "\n",
    "grid_search2.fit(X_train, y_train)\n",
    "\n",
    "print(\"✅ Best params:\", grid_search2.best_params_)\n",
    "print(\"✅ Best Score:\", grid_search2.best_score_)\n"
   ]
  },
  {
   "cell_type": "markdown",
   "id": "c2591f7b",
   "metadata": {
    "papermill": {
     "duration": 0.021605,
     "end_time": "2025-04-30T09:53:48.021975",
     "exception": false,
     "start_time": "2025-04-30T09:53:48.000370",
     "status": "completed"
    },
    "tags": []
   },
   "source": [
    "8.6: Final Regularisation (subsample, max_leaf_nodes)"
   ]
  },
  {
   "cell_type": "code",
   "execution_count": 28,
   "id": "0c1acd04",
   "metadata": {
    "execution": {
     "iopub.execute_input": "2025-04-30T09:53:48.066617Z",
     "iopub.status.busy": "2025-04-30T09:53:48.066256Z",
     "iopub.status.idle": "2025-04-30T10:13:03.573646Z",
     "shell.execute_reply": "2025-04-30T10:13:03.572968Z"
    },
    "papermill": {
     "duration": 1155.553932,
     "end_time": "2025-04-30T10:13:03.597773",
     "exception": false,
     "start_time": "2025-04-30T09:53:48.043841",
     "status": "completed"
    },
    "tags": []
   },
   "outputs": [
    {
     "name": "stdout",
     "output_type": "stream",
     "text": [
      "Fitting 3 folds for each of 27 candidates, totalling 81 fits\n",
      "✅ Best params: {'estimator__l2_regularization': 0.0, 'estimator__max_leaf_nodes': 20, 'estimator__min_samples_leaf': 30}\n",
      "✅ Best Score: 0.7174090800159002\n"
     ]
    }
   ],
   "source": [
    "param_grid3 = {\n",
    "    'estimator__max_leaf_nodes': [20, 31, 50],\n",
    "    'estimator__l2_regularization': [0.0, 1.0, 5.0],  # <-- added useful parameter\n",
    "    'estimator__min_samples_leaf': [10, 20, 30]        # <-- optional if you want more tuning\n",
    "}\n",
    "\n",
    "grid_search3 = GridSearchCV(\n",
    "    MultiOutputClassifier(\n",
    "        HistGradientBoostingClassifier(\n",
    "            random_state=42,\n",
    "            learning_rate=grid_search.best_params_['estimator__learning_rate'],\n",
    "            max_iter=grid_search.best_params_['estimator__max_iter'],\n",
    "            max_depth=grid_search2.best_params_['estimator__max_depth'],\n",
    "            min_samples_leaf=grid_search2.best_params_['estimator__min_samples_leaf']\n",
    "        )\n",
    "    ),\n",
    "    param_grid=param_grid3,\n",
    "    scoring='f1_micro',\n",
    "    cv=3,\n",
    "    verbose=3,\n",
    "    n_jobs=-1\n",
    ")\n",
    "\n",
    "grid_search3.fit(X_train, y_train)\n",
    "\n",
    "print(\"✅ Best params:\", grid_search3.best_params_)\n",
    "print(\"✅ Best Score:\", grid_search3.best_score_)\n"
   ]
  },
  {
   "cell_type": "markdown",
   "id": "1750309a",
   "metadata": {
    "papermill": {
     "duration": 0.021245,
     "end_time": "2025-04-30T10:13:03.640716",
     "exception": false,
     "start_time": "2025-04-30T10:13:03.619471",
     "status": "completed"
    },
    "tags": []
   },
   "source": [
    "# 9: Final Model Training & Submission"
   ]
  },
  {
   "cell_type": "markdown",
   "id": "9df43993",
   "metadata": {
    "papermill": {
     "duration": 0.021591,
     "end_time": "2025-04-30T10:13:03.684162",
     "exception": false,
     "start_time": "2025-04-30T10:13:03.662571",
     "status": "completed"
    },
    "tags": []
   },
   "source": [
    "9.1: Retrain on tuned parameters"
   ]
  },
  {
   "cell_type": "code",
   "execution_count": 29,
   "id": "ccf802e1",
   "metadata": {
    "execution": {
     "iopub.execute_input": "2025-04-30T10:13:03.730495Z",
     "iopub.status.busy": "2025-04-30T10:13:03.730166Z",
     "iopub.status.idle": "2025-04-30T10:13:18.807835Z",
     "shell.execute_reply": "2025-04-30T10:13:18.807124Z"
    },
    "papermill": {
     "duration": 15.103,
     "end_time": "2025-04-30T10:13:18.809625",
     "exception": false,
     "start_time": "2025-04-30T10:13:03.706625",
     "status": "completed"
    },
    "tags": []
   },
   "outputs": [
    {
     "name": "stdout",
     "output_type": "stream",
     "text": [
      "✅ Final model retrained!\n"
     ]
    }
   ],
   "source": [
    "from sklearn.multioutput import MultiOutputClassifier\n",
    "from sklearn.ensemble import HistGradientBoostingClassifier\n",
    "\n",
    "final_model = MultiOutputClassifier(\n",
    "    HistGradientBoostingClassifier(\n",
    "        random_state=42,\n",
    "        learning_rate=grid_search.best_params_['estimator__learning_rate'],\n",
    "        max_iter=grid_search.best_params_['estimator__max_iter'],\n",
    "        max_depth=grid_search2.best_params_['estimator__max_depth'],\n",
    "        min_samples_leaf=grid_search3.best_params_['estimator__min_samples_leaf'],\n",
    "        max_leaf_nodes=grid_search3.best_params_['estimator__max_leaf_nodes'],\n",
    "        l2_regularization=grid_search3.best_params_['estimator__l2_regularization']\n",
    "    )\n",
    ")\n",
    "\n",
    "# Train on full training data\n",
    "final_model.fit(X_train, y_train)\n",
    "\n",
    "print(\"✅ Final model retrained!\")\n"
   ]
  },
  {
   "cell_type": "markdown",
   "id": "40fe3374",
   "metadata": {
    "papermill": {
     "duration": 0.021509,
     "end_time": "2025-04-30T10:13:18.852789",
     "exception": false,
     "start_time": "2025-04-30T10:13:18.831280",
     "status": "completed"
    },
    "tags": []
   },
   "source": [
    "9.2: Full test pipeline"
   ]
  },
  {
   "cell_type": "code",
   "execution_count": 30,
   "id": "f90f4b7b",
   "metadata": {
    "execution": {
     "iopub.execute_input": "2025-04-30T10:13:18.897898Z",
     "iopub.status.busy": "2025-04-30T10:13:18.897368Z",
     "iopub.status.idle": "2025-04-30T10:13:23.766910Z",
     "shell.execute_reply": "2025-04-30T10:13:23.765901Z"
    },
    "papermill": {
     "duration": 4.894089,
     "end_time": "2025-04-30T10:13:23.768286",
     "exception": false,
     "start_time": "2025-04-30T10:13:18.874197",
     "status": "completed"
    },
    "tags": []
   },
   "outputs": [
    {
     "name": "stdout",
     "output_type": "stream",
     "text": [
      "✅ X_test_final ready: (304, 965)\n"
     ]
    }
   ],
   "source": [
    "# 1. Load the test files\n",
    "test_connectome = pd.read_csv(\"/kaggle/input/widsdatathon2025/TEST/TEST_FUNCTIONAL_CONNECTOME_MATRICES.csv\")\n",
    "test_cat_meta = pd.read_excel(\"/kaggle/input/widsdatathon2025/TEST/TEST_CATEGORICAL.xlsx\")\n",
    "test_quant_meta = pd.read_excel(\"/kaggle/input/widsdatathon2025/TEST/TEST_QUANTITATIVE_METADATA.xlsx\")\n",
    "test_ids = pd.read_excel(\"/kaggle/input/widsdatathon2025/SAMPLE_SUBMISSION.xlsx\")\n",
    "\n",
    "# 2. Merge all test data\n",
    "test_wd = test_ids[['participant_id']].copy()\n",
    "test_wd = test_wd.merge(test_connectome, on='participant_id', how='left')\n",
    "test_wd = test_wd.merge(test_cat_meta, on='participant_id', how='left')\n",
    "test_wd = test_wd.merge(test_quant_meta, on='participant_id', how='left')\n",
    "\n",
    "# 3. One-hot encode categorical columns\n",
    "test_encoded = pd.get_dummies(test_wd, columns=manual_cat_cols, drop_first=True)\n",
    "\n",
    "# 4. Scale numeric metadata\n",
    "test_encoded[manual_numeric_cols] = scaler.transform(test_encoded[manual_numeric_cols])\n",
    "\n",
    "# 5. Fill missing values with mean of training set\n",
    "test_encoded = test_encoded.fillna(X_final.mean())\n",
    "\n",
    "# 6. Fix missing fMRI columns\n",
    "for col in fmri_cols:\n",
    "    if col not in test_encoded.columns:\n",
    "        test_encoded[col] = 0\n",
    "test_fmri = test_encoded[fmri_cols]\n",
    "\n",
    "# 7. PCA transform\n",
    "test_pca = pca.transform(test_fmri)\n",
    "test_pca_df = pd.DataFrame(test_pca, columns=[f'pca_{i+1}' for i in range(test_pca.shape[1])])\n",
    "test_pca_df.index = test_encoded.index\n",
    "\n",
    "# 8. Fix missing metadata columns\n",
    "for col in meta_data.columns:\n",
    "    if col not in test_encoded.columns:\n",
    "        test_encoded[col] = 0\n",
    "test_meta = test_encoded[meta_data.columns]\n",
    "\n",
    "# 9. Combine metadata + PCA\n",
    "X_test_final = pd.concat([test_meta.reset_index(drop=True), test_pca_df.reset_index(drop=True)], axis=1)\n",
    "\n",
    "print(\"✅ X_test_final ready:\", X_test_final.shape)\n"
   ]
  },
  {
   "cell_type": "markdown",
   "id": "76b0c4b0",
   "metadata": {
    "papermill": {
     "duration": 0.021581,
     "end_time": "2025-04-30T10:13:23.811534",
     "exception": false,
     "start_time": "2025-04-30T10:13:23.789953",
     "status": "completed"
    },
    "tags": []
   },
   "source": [
    "9.3: Final prediction and save to submission_final_hgb.csv"
   ]
  },
  {
   "cell_type": "code",
   "execution_count": 31,
   "id": "20a58e05",
   "metadata": {
    "execution": {
     "iopub.execute_input": "2025-04-30T10:13:23.858586Z",
     "iopub.status.busy": "2025-04-30T10:13:23.858276Z",
     "iopub.status.idle": "2025-04-30T10:13:23.903114Z",
     "shell.execute_reply": "2025-04-30T10:13:23.902208Z"
    },
    "papermill": {
     "duration": 0.069698,
     "end_time": "2025-04-30T10:13:23.904508",
     "exception": false,
     "start_time": "2025-04-30T10:13:23.834810",
     "status": "completed"
    },
    "tags": []
   },
   "outputs": [
    {
     "name": "stdout",
     "output_type": "stream",
     "text": [
      "✅ Final submission created!\n"
     ]
    }
   ],
   "source": [
    "# Predict\n",
    "final_preds = final_model.predict(X_test_final)\n",
    "\n",
    "# Save submission\n",
    "submission_final = pd.DataFrame({\n",
    "    'participant_id': test_encoded['participant_id'],\n",
    "    'ADHD_Outcome': final_preds[:, 0],\n",
    "    'Sex_F': final_preds[:, 1]\n",
    "})\n",
    "submission_final.to_csv(\"submission_final_hgb.csv\", index=False)\n",
    "print(\"✅ Final submission created!\")\n"
   ]
  },
  {
   "cell_type": "markdown",
   "id": "ec356712",
   "metadata": {
    "papermill": {
     "duration": 0.021326,
     "end_time": "2025-04-30T10:13:23.947656",
     "exception": false,
     "start_time": "2025-04-30T10:13:23.926330",
     "status": "completed"
    },
    "tags": []
   },
   "source": [
    "# 10: Conclusion"
   ]
  },
  {
   "cell_type": "markdown",
   "id": "b91c9fdc",
   "metadata": {
    "papermill": {
     "duration": 0.020978,
     "end_time": "2025-04-30T10:13:23.990515",
     "exception": false,
     "start_time": "2025-04-30T10:13:23.969537",
     "status": "completed"
    },
    "tags": []
   },
   "source": [
    "This notebook built a robust end-to-end machine learning pipeline for multi-target classification of ADHD and participant sex using a high-dimensional dataset combining fMRI data and diverse metadata. Key strengths included careful dimensionality reduction via PCA and structured hyperparameter tuning. While the ADHD predictions performed strongly, the Sex_F task showed lower F1 performance—likely due to class imbalance or limited discriminative signal in the metadata and fMRI features. Future work may explore class-balancing techniques, advanced architectures (e.g., neural networks), or domain-specific feature engineering to further enhance generalisation.\n",
    "\n"
   ]
  }
 ],
 "metadata": {
  "kaggle": {
   "accelerator": "none",
   "dataSources": [
    {
     "databundleVersionId": 11498594,
     "sourceId": 90566,
     "sourceType": "competition"
    }
   ],
   "dockerImageVersionId": 31012,
   "isGpuEnabled": false,
   "isInternetEnabled": true,
   "language": "python",
   "sourceType": "notebook"
  },
  "kernelspec": {
   "display_name": "Python 3",
   "language": "python",
   "name": "python3"
  },
  "language_info": {
   "codemirror_mode": {
    "name": "ipython",
    "version": 3
   },
   "file_extension": ".py",
   "mimetype": "text/x-python",
   "name": "python",
   "nbconvert_exporter": "python",
   "pygments_lexer": "ipython3",
   "version": "3.11.11"
  },
  "papermill": {
   "default_parameters": {},
   "duration": 2321.242742,
   "end_time": "2025-04-30T10:13:26.633693",
   "environment_variables": {},
   "exception": null,
   "input_path": "__notebook__.ipynb",
   "output_path": "__notebook__.ipynb",
   "parameters": {},
   "start_time": "2025-04-30T09:34:45.390951",
   "version": "2.6.0"
  }
 },
 "nbformat": 4,
 "nbformat_minor": 5
}
